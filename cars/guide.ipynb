{
 "cells": [
  {
   "cell_type": "markdown",
   "metadata": {
    "id": "NTIuNTwD-omY"
   },
   "source": [
    "# APEX STATS Dataset\n",
    "Prepared by Andy Qui Le"
   ]
  },
  {
   "cell_type": "markdown",
   "metadata": {
    "id": "Z_B3g6Ve-5LF"
   },
   "source": [
    "## Source Attribution\n",
    "\n",
    "\n"
   ]
  },
  {
   "cell_type": "markdown",
   "metadata": {
    "id": "lFkGO97GfxZR"
   },
   "source": [
    "Author: Petra Isenberg, Pierre Dragicevic, and Yvonne Jansen\n",
    "\n",
    "Title: Cars\n",
    "\n",
    "Source: <a href=\"https://perso.telecom-paristech.fr/eagan/class/igr204/datasets\">James Eagan's Project Datasets</a>\n",
    "\n",
    "License: Creative Commons Attribution-ShareAlike 3.0\n",
    "\n",
    "Changes: Data have been adapted for APEX STATS by Andy Qui Le; columns have been renamed and/or removed \n",
    "\n"
   ]
  },
  {
   "cell_type": "markdown",
   "metadata": {
    "id": "6CJVS-pa-8Gm"
   },
   "source": [
    "## Description of the Original Data"
   ]
  },
  {
   "cell_type": "markdown",
   "metadata": {
    "id": "RmhMDIMlhKAl"
   },
   "source": [
    "Authors collect quantitative information, such as MPG and horsepower, about 400 different car brands. The data are available on James Eagan's datasets website."
   ]
  },
  {
   "cell_type": "markdown",
   "metadata": {
    "id": "Q_9BG3Cx_FuK"
   },
   "source": [
    "## Description of the Example"
   ]
  },
  {
   "cell_type": "markdown",
   "metadata": {
    "id": "va4SDSZ5joZC"
   },
   "source": [
    "Access this example using the file `example.csv`.\n",
    "\n",
    "The example file is created using the original data, with columns being reorganized and renamed.\n",
    "\n",
    "The unit of analysis (each row) is an instance of a car brand.\n",
    "\n",
    "The following variables are included:\n",
    "\n",
    "y: MPG (miles per gallon)  \n",
    "x: Horsepower  \n",
    "x1: Weight  \n",
    "x2: Acceleration  \n",
    "x3: Cylinders  \n",
    "x4: Displacement   \n",
    "x5: Car   \n",
    "x6: Model    \n",
    "x7: Origin\n",
    "\n",
    "No data were missing in the original dataset."
   ]
  },
  {
   "cell_type": "markdown",
   "metadata": {
    "id": "vagKhTD-_K6f"
   },
   "source": [
    "## Discipline(s) Represented\n",
    "\n",
    "* Business\n",
    "* Physical Science\n",
    "* Education"
   ]
  },
  {
   "cell_type": "markdown",
   "metadata": {
    "id": "pmn-KNo4nkfI"
   },
   "source": [
    "## Dataset Preview\n"
   ]
  },
  {
   "cell_type": "code",
   "execution_count": 1,
   "metadata": {
    "id": "JX46yRSRnnOS"
   },
   "outputs": [
    {
     "data": {
      "text/html": [
       "<div>\n",
       "<style scoped>\n",
       "    .dataframe tbody tr th:only-of-type {\n",
       "        vertical-align: middle;\n",
       "    }\n",
       "\n",
       "    .dataframe tbody tr th {\n",
       "        vertical-align: top;\n",
       "    }\n",
       "\n",
       "    .dataframe thead th {\n",
       "        text-align: right;\n",
       "    }\n",
       "</style>\n",
       "<table border=\"1\" class=\"dataframe\">\n",
       "  <thead>\n",
       "    <tr style=\"text-align: right;\">\n",
       "      <th></th>\n",
       "      <th>y</th>\n",
       "      <th>x</th>\n",
       "      <th>x1</th>\n",
       "      <th>x2</th>\n",
       "      <th>x3</th>\n",
       "      <th>x4</th>\n",
       "      <th>x5</th>\n",
       "      <th>x6</th>\n",
       "      <th>x7</th>\n",
       "    </tr>\n",
       "  </thead>\n",
       "  <tbody>\n",
       "    <tr>\n",
       "      <th>0</th>\n",
       "      <td>18.0</td>\n",
       "      <td>130.0</td>\n",
       "      <td>3504.0</td>\n",
       "      <td>12.0</td>\n",
       "      <td>8</td>\n",
       "      <td>307.0</td>\n",
       "      <td>Chevrolet Chevelle Malibu</td>\n",
       "      <td>70</td>\n",
       "      <td>US</td>\n",
       "    </tr>\n",
       "    <tr>\n",
       "      <th>1</th>\n",
       "      <td>15.0</td>\n",
       "      <td>165.0</td>\n",
       "      <td>3693.0</td>\n",
       "      <td>11.5</td>\n",
       "      <td>8</td>\n",
       "      <td>350.0</td>\n",
       "      <td>Buick Skylark 320</td>\n",
       "      <td>70</td>\n",
       "      <td>US</td>\n",
       "    </tr>\n",
       "    <tr>\n",
       "      <th>2</th>\n",
       "      <td>18.0</td>\n",
       "      <td>150.0</td>\n",
       "      <td>3436.0</td>\n",
       "      <td>11.0</td>\n",
       "      <td>8</td>\n",
       "      <td>318.0</td>\n",
       "      <td>Plymouth Satellite</td>\n",
       "      <td>70</td>\n",
       "      <td>US</td>\n",
       "    </tr>\n",
       "    <tr>\n",
       "      <th>3</th>\n",
       "      <td>16.0</td>\n",
       "      <td>150.0</td>\n",
       "      <td>3433.0</td>\n",
       "      <td>12.0</td>\n",
       "      <td>8</td>\n",
       "      <td>304.0</td>\n",
       "      <td>AMC Rebel SST</td>\n",
       "      <td>70</td>\n",
       "      <td>US</td>\n",
       "    </tr>\n",
       "    <tr>\n",
       "      <th>4</th>\n",
       "      <td>17.0</td>\n",
       "      <td>140.0</td>\n",
       "      <td>3449.0</td>\n",
       "      <td>10.5</td>\n",
       "      <td>8</td>\n",
       "      <td>302.0</td>\n",
       "      <td>Ford Torino</td>\n",
       "      <td>70</td>\n",
       "      <td>US</td>\n",
       "    </tr>\n",
       "  </tbody>\n",
       "</table>\n",
       "</div>"
      ],
      "text/plain": [
       "      y      x      x1    x2  x3     x4                         x5  x6  x7\n",
       "0  18.0  130.0  3504.0  12.0   8  307.0  Chevrolet Chevelle Malibu  70  US\n",
       "1  15.0  165.0  3693.0  11.5   8  350.0          Buick Skylark 320  70  US\n",
       "2  18.0  150.0  3436.0  11.0   8  318.0         Plymouth Satellite  70  US\n",
       "3  16.0  150.0  3433.0  12.0   8  304.0              AMC Rebel SST  70  US\n",
       "4  17.0  140.0  3449.0  10.5   8  302.0                Ford Torino  70  US"
      ]
     },
     "execution_count": 1,
     "metadata": {},
     "output_type": "execute_result"
    }
   ],
   "source": [
    "#@title Preview Code\n",
    "import pandas as pd\n",
    "data = pd.read_csv(\"https://raw.githubusercontent.com/vectrlab/apex-stats-datasets/main/cars/example.csv\")\n",
    "data.head(5)"
   ]
  },
  {
   "cell_type": "markdown",
   "metadata": {},
   "source": [
    "## Exploratory Analyses (untested)"
   ]
  },
  {
   "cell_type": "markdown",
   "metadata": {},
   "source": [
    "* Investigate possible dependent or independent relationships between quantitative variables\n",
    "* Explore bivariate relationships between quantitative variables"
   ]
  },
  {
   "cell_type": "markdown",
   "metadata": {},
   "source": [
    "## Potential Activity Starters"
   ]
  },
  {
   "cell_type": "markdown",
   "metadata": {},
   "source": [
    "* Is there some sort of relationship between horsepower and acceleration? Is it a linear relationship?\n",
    "* What factors predict MPG for a car brand?"
   ]
  }
 ],
 "metadata": {
  "colab": {
   "name": "cars-dataset-guide.ipynb",
   "private_outputs": true,
   "provenance": [],
   "toc_visible": true
  },
  "kernelspec": {
   "display_name": "Python 3",
   "language": "python",
   "name": "python3"
  },
  "language_info": {
   "codemirror_mode": {
    "name": "ipython",
    "version": 3
   },
   "file_extension": ".py",
   "mimetype": "text/x-python",
   "name": "python",
   "nbconvert_exporter": "python",
   "pygments_lexer": "ipython3",
   "version": "3.8.5"
  }
 },
 "nbformat": 4,
 "nbformat_minor": 1
}
