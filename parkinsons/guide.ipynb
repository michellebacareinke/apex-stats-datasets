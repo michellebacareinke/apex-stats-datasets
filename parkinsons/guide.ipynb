{
 "cells": [
  {
   "cell_type": "markdown",
   "metadata": {
    "id": "NTIuNTwD-omY"
   },
   "source": [
    "# APEX STATS Dataset\n",
    "Prepared by Andy Qui Le"
   ]
  },
  {
   "cell_type": "markdown",
   "metadata": {
    "id": "Z_B3g6Ve-5LF"
   },
   "source": [
    "## Source Attribution\n",
    "\n",
    "\n"
   ]
  },
  {
   "cell_type": "markdown",
   "metadata": {
    "id": "lFkGO97GfxZR"
   },
   "source": [
    "Author: Max Little\n",
    "\n",
    "Title: Parkinsons Disease\n",
    "\n",
    "Source: <a href=\"https://archive.ics.uci.edu/ml/datasets/Parkinsons\">UCI Machine Learning Repository</a>\n",
    "\n",
    "License: Public Domain\n",
    "\n",
    "Changes: Data have been adapted for APEX STATS by Andy Qui Le; columns have been renamed and/or removed \n",
    "\n"
   ]
  },
  {
   "cell_type": "markdown",
   "metadata": {
    "id": "6CJVS-pa-8Gm"
   },
   "source": [
    "## Description of the Original Data"
   ]
  },
  {
   "cell_type": "markdown",
   "metadata": {
    "id": "RmhMDIMlhKAl"
   },
   "source": []
  },
  {
   "cell_type": "markdown",
   "metadata": {
    "id": "Q_9BG3Cx_FuK"
   },
   "source": [
    "## Description of the Example"
   ]
  },
  {
   "cell_type": "markdown",
   "metadata": {
    "id": "va4SDSZ5joZC"
   },
   "source": [
    "Access this example using the file `example.csv`.\n",
    "\n",
    "The example file is created using the original data, with columns being reorganized and renamed.\n",
    "\n",
    "The unit of analysis (each row) is a patient's voice recording.\n",
    "\n",
    "The following variables are included:\n",
    "\n",
    "y: status (health status of the subject: 1 - Parkinson's and 0 - healthy)   \n",
    "x: MDVP:Fo(Hz) (Average vocal fundamental frequency)  \n",
    "x1: MDVP:Fhi(Hz) (Maximum vocal fundamental frequency)  \n",
    "x2: MDVP:Flo(Hz) (Minimum vocal fundamental frequency)  \n",
    "x3: MDVP:RAP (MDVP relative amplitude perturbation).  \n",
    "x4: MDVP:Shimmer(dB) (MDVP local shimmer in dB)  \n",
    "x5: NHR (Noise-to-harmonics ratio)  \n",
    "x6: RPDE (Recurrence period density entropy measure)  \n",
    "x7: DFA (Signal fractal scaling exponent of detrended fluctuation analysis)  \n",
    "x8: PPE (Pitch period entropy)  \n",
    "x9: name (ASCII subject name and recording number)\n",
    "\n",
    "No data were missing in the original dataset."
   ]
  },
  {
   "cell_type": "markdown",
   "metadata": {
    "id": "vagKhTD-_K6f"
   },
   "source": [
    "## Discipline(s) Represented\n",
    "\n",
    "* Health Science\n",
    "* Healthcare\n",
    "* Business\n",
    "* Education"
   ]
  },
  {
   "cell_type": "markdown",
   "metadata": {
    "id": "pmn-KNo4nkfI"
   },
   "source": [
    "## Dataset Preview\n"
   ]
  },
  {
   "cell_type": "code",
   "execution_count": 1,
   "metadata": {
    "id": "JX46yRSRnnOS"
   },
   "outputs": [
    {
     "data": {
      "text/html": [
       "<div>\n",
       "<style scoped>\n",
       "    .dataframe tbody tr th:only-of-type {\n",
       "        vertical-align: middle;\n",
       "    }\n",
       "\n",
       "    .dataframe tbody tr th {\n",
       "        vertical-align: top;\n",
       "    }\n",
       "\n",
       "    .dataframe thead th {\n",
       "        text-align: right;\n",
       "    }\n",
       "</style>\n",
       "<table border=\"1\" class=\"dataframe\">\n",
       "  <thead>\n",
       "    <tr style=\"text-align: right;\">\n",
       "      <th></th>\n",
       "      <th>y</th>\n",
       "      <th>x</th>\n",
       "      <th>x1</th>\n",
       "      <th>x2</th>\n",
       "      <th>x3</th>\n",
       "      <th>x4</th>\n",
       "      <th>x5</th>\n",
       "      <th>x6</th>\n",
       "      <th>x7</th>\n",
       "      <th>x8</th>\n",
       "      <th>x9</th>\n",
       "    </tr>\n",
       "  </thead>\n",
       "  <tbody>\n",
       "    <tr>\n",
       "      <th>0</th>\n",
       "      <td>1</td>\n",
       "      <td>119.992</td>\n",
       "      <td>157.302</td>\n",
       "      <td>74.997</td>\n",
       "      <td>0.00370</td>\n",
       "      <td>0.426</td>\n",
       "      <td>0.02211</td>\n",
       "      <td>0.414783</td>\n",
       "      <td>0.815285</td>\n",
       "      <td>0.284654</td>\n",
       "      <td>phon_R01_S01_1</td>\n",
       "    </tr>\n",
       "    <tr>\n",
       "      <th>1</th>\n",
       "      <td>1</td>\n",
       "      <td>122.400</td>\n",
       "      <td>148.650</td>\n",
       "      <td>113.819</td>\n",
       "      <td>0.00465</td>\n",
       "      <td>0.626</td>\n",
       "      <td>0.01929</td>\n",
       "      <td>0.458359</td>\n",
       "      <td>0.819521</td>\n",
       "      <td>0.368674</td>\n",
       "      <td>phon_R01_S01_2</td>\n",
       "    </tr>\n",
       "    <tr>\n",
       "      <th>2</th>\n",
       "      <td>1</td>\n",
       "      <td>116.682</td>\n",
       "      <td>131.111</td>\n",
       "      <td>111.555</td>\n",
       "      <td>0.00544</td>\n",
       "      <td>0.482</td>\n",
       "      <td>0.01309</td>\n",
       "      <td>0.429895</td>\n",
       "      <td>0.825288</td>\n",
       "      <td>0.332634</td>\n",
       "      <td>phon_R01_S01_3</td>\n",
       "    </tr>\n",
       "    <tr>\n",
       "      <th>3</th>\n",
       "      <td>1</td>\n",
       "      <td>116.676</td>\n",
       "      <td>137.871</td>\n",
       "      <td>111.366</td>\n",
       "      <td>0.00502</td>\n",
       "      <td>0.517</td>\n",
       "      <td>0.01353</td>\n",
       "      <td>0.434969</td>\n",
       "      <td>0.819235</td>\n",
       "      <td>0.368975</td>\n",
       "      <td>phon_R01_S01_4</td>\n",
       "    </tr>\n",
       "    <tr>\n",
       "      <th>4</th>\n",
       "      <td>1</td>\n",
       "      <td>116.014</td>\n",
       "      <td>141.781</td>\n",
       "      <td>110.655</td>\n",
       "      <td>0.00655</td>\n",
       "      <td>0.584</td>\n",
       "      <td>0.01767</td>\n",
       "      <td>0.417356</td>\n",
       "      <td>0.823484</td>\n",
       "      <td>0.410335</td>\n",
       "      <td>phon_R01_S01_5</td>\n",
       "    </tr>\n",
       "  </tbody>\n",
       "</table>\n",
       "</div>"
      ],
      "text/plain": [
       "   y        x       x1       x2       x3     x4       x5        x6        x7  \\\n",
       "0  1  119.992  157.302   74.997  0.00370  0.426  0.02211  0.414783  0.815285   \n",
       "1  1  122.400  148.650  113.819  0.00465  0.626  0.01929  0.458359  0.819521   \n",
       "2  1  116.682  131.111  111.555  0.00544  0.482  0.01309  0.429895  0.825288   \n",
       "3  1  116.676  137.871  111.366  0.00502  0.517  0.01353  0.434969  0.819235   \n",
       "4  1  116.014  141.781  110.655  0.00655  0.584  0.01767  0.417356  0.823484   \n",
       "\n",
       "         x8              x9  \n",
       "0  0.284654  phon_R01_S01_1  \n",
       "1  0.368674  phon_R01_S01_2  \n",
       "2  0.332634  phon_R01_S01_3  \n",
       "3  0.368975  phon_R01_S01_4  \n",
       "4  0.410335  phon_R01_S01_5  "
      ]
     },
     "execution_count": 1,
     "metadata": {},
     "output_type": "execute_result"
    }
   ],
   "source": [
    "#@title Preview Code\n",
    "import pandas as pd\n",
    "data = pd.read_csv(\"https://raw.githubusercontent.com/vectrlab/apex-stats-datasets/main/parkinsons/example.csv\")\n",
    "data.head(5)"
   ]
  }
 ],
 "metadata": {
  "colab": {
   "name": "parkinsons-dataset-guide.ipynb",
   "private_outputs": true,
   "provenance": [],
   "toc_visible": true
  },
  "kernelspec": {
   "display_name": "Python 3",
   "language": "python",
   "name": "python3"
  },
  "language_info": {
   "codemirror_mode": {
    "name": "ipython",
    "version": 3
   },
   "file_extension": ".py",
   "mimetype": "text/x-python",
   "name": "python",
   "nbconvert_exporter": "python",
   "pygments_lexer": "ipython3",
   "version": "3.8.5"
  }
 },
 "nbformat": 4,
 "nbformat_minor": 1
}
