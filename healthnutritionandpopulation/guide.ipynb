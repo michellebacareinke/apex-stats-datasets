{
 "cells": [
  {
   "cell_type": "markdown",
   "metadata": {
    "colab_type": "text",
    "id": "view-in-github"
   },
   "source": [
    "<a href=\"https://colab.research.google.com/github/vectrlab/python-stats/blob/main/datasets/healthnutritionandpopulation/guide.ipynb\" target=\"_parent\"><img src=\"https://colab.research.google.com/assets/colab-badge.svg\" alt=\"Open In Colab\"/></a>"
   ]
  },
  {
   "cell_type": "markdown",
   "metadata": {},
   "source": [
    "# APEX STATS Dataset\n",
    "Prepared by David Schuster"
   ]
  },
  {
   "cell_type": "markdown",
   "metadata": {},
   "source": [
    "## Source Attribution\n",
    "\n",
    "Author: Data Copyright &copy; 2021 by The World Bank Group, All Rights Reserved\n",
    "\n",
    "Title: Health Nutrition and Population Statistics\n",
    "\n",
    "Source: <a href=\"https://datacatalog.worldbank.org/search/dataset/0037652\">The World Bank Data Catalog</a>\n",
    "\n",
    "License: Creative Commons Attribution 4.0 (CC-BY 4.0)\n",
    "\n",
    "Changes: Data have been adapted for APEX STATS by David Schuster; missing cases have been removed in the example version\n"
   ]
  },
  {
   "cell_type": "markdown",
   "metadata": {},
   "source": [
    "## Description of the Original Data\n",
    "\n",
    "The World Bank has gathered health, nutrition and population statistics about a variety of countries. The data are reported from a variety of sources. These data can inform about international differences and similarities in surgery, health, disease, medicine, nutrition, population dynamics, reproductive health, and healthcare.\n"
   ]
  },
  {
   "cell_type": "markdown",
   "metadata": {},
   "source": [
    "## Description of the Example\n",
    "\n",
    "Access this example using the file `example.csv`.\n",
    "\n",
    "The example file is a subset of the original data. Only life expectancy at birth, for all genders, in years, is included.\n",
    "\n",
    "The unit of analysis (each row) is a country. \n",
    "\n",
    "The following variables are included:\n",
    "\n",
    "y: The name of the country  \n",
    "x: The life expectancy at birth for the year 2018, the latest data available at the time of this example  \n",
    "x1: The life expectancy for 2008 (i.e., ten years before 2018)  \n",
    "x2: The life expectancy for 1998  \n",
    "x3: The life expectancy for 1988  \n",
    "x4: The life expectancy for 1978  \n",
    "x5: The life expectancy for 1968  \n",
    "\n",
    "Due to missing data for one or more of these years, listwise deletion resulted in these these countries being removed from the data file: \n",
    "\n",
    "- American Samoa\n",
    "- Andorra\n",
    "- Bermuda\n",
    "- British Virgin Islands\n",
    "- Cayman Islands\n",
    "- Curacao\n",
    "- Dominica\n",
    "- Faroe Islands\n",
    "- Gibraltar\n",
    "- Greenland\n",
    "- Isle of Man\n",
    "- Kosovo\n",
    "- Liechtenstein\n",
    "- Marshall Islands\n",
    "- Monaco\n",
    "- Nauru\n",
    "- Northern Mariana Islands\n",
    "- Palau\n",
    "- San Marino\n",
    "- Serbia\n",
    "- Seychelles\n",
    "- Sint Maarten (Dutch part)\n",
    "- St. Marin (French part)\n",
    "- St. Kitts and Nevis\n",
    "- Turks and Caicos Islands\n",
    "- Tuvalu\n",
    "- West Bank and Gaza\n",
    "\n",
    "The resulting data file has life expectancies for 195 countries for the years 1968, 1978, 1988, 1998, 2008, and 2018.\n",
    "\n",
    "The secondary file, `example2.csv` provides similar data organized in non-mutually exclusive regional categories. Note that this secondary file has not been cleaned and has missing data. This file is provided to manually pull test statistics (e.g., the worldwide average)."
   ]
  },
  {
   "cell_type": "markdown",
   "metadata": {},
   "source": [
    "## Discipline(s) Represented\n",
    "\n",
    "- Social Science\n",
    "- Political Science\n",
    "- Health Science"
   ]
  },
  {
   "cell_type": "markdown",
   "metadata": {},
   "source": [
    "## Dataset Preview"
   ]
  },
  {
   "cell_type": "code",
   "execution_count": 1,
   "metadata": {},
   "outputs": [
    {
     "data": {
      "text/html": [
       "<div>\n",
       "<style scoped>\n",
       "    .dataframe tbody tr th:only-of-type {\n",
       "        vertical-align: middle;\n",
       "    }\n",
       "\n",
       "    .dataframe tbody tr th {\n",
       "        vertical-align: top;\n",
       "    }\n",
       "\n",
       "    .dataframe thead th {\n",
       "        text-align: right;\n",
       "    }\n",
       "</style>\n",
       "<table border=\"1\" class=\"dataframe\">\n",
       "  <thead>\n",
       "    <tr style=\"text-align: right;\">\n",
       "      <th></th>\n",
       "      <th>y</th>\n",
       "      <th>x</th>\n",
       "      <th>x1</th>\n",
       "      <th>x2</th>\n",
       "      <th>x3</th>\n",
       "      <th>x4</th>\n",
       "      <th>x5</th>\n",
       "    </tr>\n",
       "  </thead>\n",
       "  <tbody>\n",
       "    <tr>\n",
       "      <th>0</th>\n",
       "      <td>Afghanistan</td>\n",
       "      <td>64.833</td>\n",
       "      <td>60.484</td>\n",
       "      <td>55.376</td>\n",
       "      <td>49.640</td>\n",
       "      <td>42.585</td>\n",
       "      <td>36.900</td>\n",
       "    </tr>\n",
       "    <tr>\n",
       "      <th>1</th>\n",
       "      <td>Albania</td>\n",
       "      <td>78.573</td>\n",
       "      <td>76.221</td>\n",
       "      <td>73.587</td>\n",
       "      <td>71.860</td>\n",
       "      <td>69.991</td>\n",
       "      <td>66.689</td>\n",
       "    </tr>\n",
       "    <tr>\n",
       "      <th>2</th>\n",
       "      <td>Algeria</td>\n",
       "      <td>76.880</td>\n",
       "      <td>74.644</td>\n",
       "      <td>70.183</td>\n",
       "      <td>66.554</td>\n",
       "      <td>56.909</td>\n",
       "      <td>49.982</td>\n",
       "    </tr>\n",
       "    <tr>\n",
       "      <th>3</th>\n",
       "      <td>Angola</td>\n",
       "      <td>61.147</td>\n",
       "      <td>54.311</td>\n",
       "      <td>46.093</td>\n",
       "      <td>45.324</td>\n",
       "      <td>43.931</td>\n",
       "      <td>40.546</td>\n",
       "    </tr>\n",
       "    <tr>\n",
       "      <th>4</th>\n",
       "      <td>Antigua and Barbuda</td>\n",
       "      <td>77.016</td>\n",
       "      <td>75.683</td>\n",
       "      <td>73.705</td>\n",
       "      <td>71.267</td>\n",
       "      <td>68.154</td>\n",
       "      <td>65.616</td>\n",
       "    </tr>\n",
       "  </tbody>\n",
       "</table>\n",
       "</div>"
      ],
      "text/plain": [
       "                     y       x      x1      x2      x3      x4      x5\n",
       "0          Afghanistan  64.833  60.484  55.376  49.640  42.585  36.900\n",
       "1              Albania  78.573  76.221  73.587  71.860  69.991  66.689\n",
       "2              Algeria  76.880  74.644  70.183  66.554  56.909  49.982\n",
       "3               Angola  61.147  54.311  46.093  45.324  43.931  40.546\n",
       "4  Antigua and Barbuda  77.016  75.683  73.705  71.267  68.154  65.616"
      ]
     },
     "execution_count": 1,
     "metadata": {},
     "output_type": "execute_result"
    }
   ],
   "source": [
    "#@title Preview Code\n",
    "import pandas as pd\n",
    "data = pd.read_csv(\"https://raw.githubusercontent.com/vectrlab/apex-python-datasets/main/healthnutritionandpopulation/example.csv\")\n",
    "data.head(5)"
   ]
  },
  {
   "cell_type": "markdown",
   "metadata": {},
   "source": [
    "## Exploratory Analyses (untested)\n",
    "\n",
    "- Estimate worldwide life expectancy in 2018\n",
    "- Descriptively examine life expectancy by country\n",
    "- Describe the distribution of life expectancy for 2018\n",
    "- Look for a linear relationship between year and life expectancy\n",
    "- Compare the life expectancy between two years\n",
    "- Repeated measures analysis of variance for life expectancy\n",
    "\n",
    "## Potential Activity Starters\n",
    "\n",
    "- Data exclusion and cleaning; why were data missing for some countries?\n",
    "- Variability in life expectancy; how do we quantify and interpret variability in life expectancy, and what is its implication?\n"
   ]
  }
 ],
 "metadata": {
  "colab": {
   "authorship_tag": "ABX9TyNU9DoL6ev4AJmtr+IFU4e3",
   "collapsed_sections": [],
   "include_colab_link": true,
   "name": "Codebase-Module.ipynb",
   "private_outputs": true,
   "provenance": [],
   "toc_visible": true
  },
  "kernelspec": {
   "display_name": "Python 3",
   "language": "python",
   "name": "python3"
  },
  "language_info": {
   "codemirror_mode": {
    "name": "ipython",
    "version": 3
   },
   "file_extension": ".py",
   "mimetype": "text/x-python",
   "name": "python",
   "nbconvert_exporter": "python",
   "pygments_lexer": "ipython3",
   "version": "3.8.5"
  }
 },
 "nbformat": 4,
 "nbformat_minor": 1
}
