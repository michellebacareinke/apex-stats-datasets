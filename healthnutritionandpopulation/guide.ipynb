{
  "cells": [
    {
      "cell_type": "markdown",
      "metadata": {
        "id": "9nyhN2kmAe6h"
      },
      "source": [
        "# APEX STATS Dataset\n",
        "Prepared by David Schuster"
      ]
    },
    {
      "cell_type": "markdown",
      "metadata": {
        "id": "WcN022O6Ae6h"
      },
      "source": [
        "## Source Attribution\n",
        "\n",
        "Author: Data Copyright &copy; 2021 by The World Bank Group, All Rights Reserved\n",
        "\n",
        "Title: Health Nutrition and Population Statistics\n",
        "\n",
        "Source: <a href=\"https://datacatalog.worldbank.org/search/dataset/0037652\">The World Bank Data Catalog</a>\n",
        "\n",
        "License: Creative Commons Attribution 4.0 (CC-BY 4.0)\n",
        "\n",
        "Changes: Data have been adapted for APEX STATS by David Schuster; missing cases have been removed in the example version\n"
      ]
    },
    {
      "cell_type": "markdown",
      "metadata": {
        "id": "B3EodszBAe6i"
      },
      "source": [
        "## Description of the Original Data\n",
        "\n",
        "The World Bank has gathered health, nutrition and population statistics about a variety of countries. The data are reported from a variety of sources. These data can inform about international differences and similarities in surgery, health, disease, medicine, nutrition, population dynamics, reproductive health, and healthcare.\n"
      ]
    },
    {
      "cell_type": "markdown",
      "metadata": {
        "id": "PVD3gq2qAe6j"
      },
      "source": [
        "## Description of the Example\n",
        "\n",
        "Access this example using the file `example.csv`.\n",
        "\n",
        "The example file is a subset of the original data. Only life expectancy at birth, for all genders, in years, is included.\n",
        "\n",
        "The unit of analysis (each row) is a country.\n",
        "\n",
        "The following variables are included:\n",
        "\n",
        "y: The name of the country  \n",
        "x: The life expectancy at birth for the year 2018, the latest data available at the time of this example  \n",
        "x1: The life expectancy for 2008 (i.e., ten years before 2018)  \n",
        "x2: The life expectancy for 1998  \n",
        "x3: The life expectancy for 1988  \n",
        "x4: The life expectancy for 1978  \n",
        "x5: The life expectancy for 1968  \n",
        "\n",
        "Due to missing data for one or more of these years, listwise deletion resulted in these these countries being removed from the data file:\n",
        "\n",
        "- American Samoa\n",
        "- Andorra\n",
        "- Bermuda\n",
        "- British Virgin Islands\n",
        "- Cayman Islands\n",
        "- Curacao\n",
        "- Dominica\n",
        "- Faroe Islands\n",
        "- Gibraltar\n",
        "- Greenland\n",
        "- Isle of Man\n",
        "- Kosovo\n",
        "- Liechtenstein\n",
        "- Marshall Islands\n",
        "- Monaco\n",
        "- Nauru\n",
        "- Northern Mariana Islands\n",
        "- Palau\n",
        "- San Marino\n",
        "- Serbia\n",
        "- Seychelles\n",
        "- Sint Maarten (Dutch part)\n",
        "- St. Marin (French part)\n",
        "- St. Kitts and Nevis\n",
        "- Turks and Caicos Islands\n",
        "- Tuvalu\n",
        "- West Bank and Gaza\n",
        "\n",
        "The resulting data file has life expectancies for 195 countries for the years 1968, 1978, 1988, 1998, 2008, and 2018.\n",
        "\n",
        "The secondary file, `example2.csv` provides similar data organized in non-mutually exclusive regional categories. Note that this secondary file has not been cleaned and has missing data. This file is provided to manually pull test statistics (e.g., the worldwide average)."
      ]
    },
    {
      "cell_type": "markdown",
      "metadata": {
        "id": "Kjh_1wcCAe6j"
      },
      "source": [
        "## Discipline(s) Represented\n",
        "\n",
        "- Social Science\n",
        "- Political Science\n",
        "- Health Science"
      ]
    },
    {
      "cell_type": "markdown",
      "metadata": {
        "id": "sqfD0Z-UAe6k"
      },
      "source": [
        "## Dataset Preview"
      ]
    },
    {
      "cell_type": "code",
      "execution_count": null,
      "metadata": {
        "colab": {
          "base_uri": "https://localhost:8080/",
          "height": 206
        },
        "id": "7l_lhPEeAe6l",
        "outputId": "fcf031ec-c12a-4e52-eb25-8dd4468514f3"
      },
      "outputs": [
        {
          "output_type": "execute_result",
          "data": {
            "text/plain": [
              "                     y       x      x1      x2      x3      x4      x5\n",
              "0          Afghanistan  64.833  60.484  55.376  49.640  42.585  36.900\n",
              "1              Albania  78.573  76.221  73.587  71.860  69.991  66.689\n",
              "2              Algeria  76.880  74.644  70.183  66.554  56.909  49.982\n",
              "3               Angola  61.147  54.311  46.093  45.324  43.931  40.546\n",
              "4  Antigua and Barbuda  77.016  75.683  73.705  71.267  68.154  65.616"
            ],
            "text/html": [
              "\n",
              "  <div id=\"df-460abadb-0192-4202-8f4c-2e2c6850bcf9\">\n",
              "    <div class=\"colab-df-container\">\n",
              "      <div>\n",
              "<style scoped>\n",
              "    .dataframe tbody tr th:only-of-type {\n",
              "        vertical-align: middle;\n",
              "    }\n",
              "\n",
              "    .dataframe tbody tr th {\n",
              "        vertical-align: top;\n",
              "    }\n",
              "\n",
              "    .dataframe thead th {\n",
              "        text-align: right;\n",
              "    }\n",
              "</style>\n",
              "<table border=\"1\" class=\"dataframe\">\n",
              "  <thead>\n",
              "    <tr style=\"text-align: right;\">\n",
              "      <th></th>\n",
              "      <th>y</th>\n",
              "      <th>x</th>\n",
              "      <th>x1</th>\n",
              "      <th>x2</th>\n",
              "      <th>x3</th>\n",
              "      <th>x4</th>\n",
              "      <th>x5</th>\n",
              "    </tr>\n",
              "  </thead>\n",
              "  <tbody>\n",
              "    <tr>\n",
              "      <th>0</th>\n",
              "      <td>Afghanistan</td>\n",
              "      <td>64.833</td>\n",
              "      <td>60.484</td>\n",
              "      <td>55.376</td>\n",
              "      <td>49.640</td>\n",
              "      <td>42.585</td>\n",
              "      <td>36.900</td>\n",
              "    </tr>\n",
              "    <tr>\n",
              "      <th>1</th>\n",
              "      <td>Albania</td>\n",
              "      <td>78.573</td>\n",
              "      <td>76.221</td>\n",
              "      <td>73.587</td>\n",
              "      <td>71.860</td>\n",
              "      <td>69.991</td>\n",
              "      <td>66.689</td>\n",
              "    </tr>\n",
              "    <tr>\n",
              "      <th>2</th>\n",
              "      <td>Algeria</td>\n",
              "      <td>76.880</td>\n",
              "      <td>74.644</td>\n",
              "      <td>70.183</td>\n",
              "      <td>66.554</td>\n",
              "      <td>56.909</td>\n",
              "      <td>49.982</td>\n",
              "    </tr>\n",
              "    <tr>\n",
              "      <th>3</th>\n",
              "      <td>Angola</td>\n",
              "      <td>61.147</td>\n",
              "      <td>54.311</td>\n",
              "      <td>46.093</td>\n",
              "      <td>45.324</td>\n",
              "      <td>43.931</td>\n",
              "      <td>40.546</td>\n",
              "    </tr>\n",
              "    <tr>\n",
              "      <th>4</th>\n",
              "      <td>Antigua and Barbuda</td>\n",
              "      <td>77.016</td>\n",
              "      <td>75.683</td>\n",
              "      <td>73.705</td>\n",
              "      <td>71.267</td>\n",
              "      <td>68.154</td>\n",
              "      <td>65.616</td>\n",
              "    </tr>\n",
              "  </tbody>\n",
              "</table>\n",
              "</div>\n",
              "      <button class=\"colab-df-convert\" onclick=\"convertToInteractive('df-460abadb-0192-4202-8f4c-2e2c6850bcf9')\"\n",
              "              title=\"Convert this dataframe to an interactive table.\"\n",
              "              style=\"display:none;\">\n",
              "        \n",
              "  <svg xmlns=\"http://www.w3.org/2000/svg\" height=\"24px\"viewBox=\"0 0 24 24\"\n",
              "       width=\"24px\">\n",
              "    <path d=\"M0 0h24v24H0V0z\" fill=\"none\"/>\n",
              "    <path d=\"M18.56 5.44l.94 2.06.94-2.06 2.06-.94-2.06-.94-.94-2.06-.94 2.06-2.06.94zm-11 1L8.5 8.5l.94-2.06 2.06-.94-2.06-.94L8.5 2.5l-.94 2.06-2.06.94zm10 10l.94 2.06.94-2.06 2.06-.94-2.06-.94-.94-2.06-.94 2.06-2.06.94z\"/><path d=\"M17.41 7.96l-1.37-1.37c-.4-.4-.92-.59-1.43-.59-.52 0-1.04.2-1.43.59L10.3 9.45l-7.72 7.72c-.78.78-.78 2.05 0 2.83L4 21.41c.39.39.9.59 1.41.59.51 0 1.02-.2 1.41-.59l7.78-7.78 2.81-2.81c.8-.78.8-2.07 0-2.86zM5.41 20L4 18.59l7.72-7.72 1.47 1.35L5.41 20z\"/>\n",
              "  </svg>\n",
              "      </button>\n",
              "      \n",
              "  <style>\n",
              "    .colab-df-container {\n",
              "      display:flex;\n",
              "      flex-wrap:wrap;\n",
              "      gap: 12px;\n",
              "    }\n",
              "\n",
              "    .colab-df-convert {\n",
              "      background-color: #E8F0FE;\n",
              "      border: none;\n",
              "      border-radius: 50%;\n",
              "      cursor: pointer;\n",
              "      display: none;\n",
              "      fill: #1967D2;\n",
              "      height: 32px;\n",
              "      padding: 0 0 0 0;\n",
              "      width: 32px;\n",
              "    }\n",
              "\n",
              "    .colab-df-convert:hover {\n",
              "      background-color: #E2EBFA;\n",
              "      box-shadow: 0px 1px 2px rgba(60, 64, 67, 0.3), 0px 1px 3px 1px rgba(60, 64, 67, 0.15);\n",
              "      fill: #174EA6;\n",
              "    }\n",
              "\n",
              "    [theme=dark] .colab-df-convert {\n",
              "      background-color: #3B4455;\n",
              "      fill: #D2E3FC;\n",
              "    }\n",
              "\n",
              "    [theme=dark] .colab-df-convert:hover {\n",
              "      background-color: #434B5C;\n",
              "      box-shadow: 0px 1px 3px 1px rgba(0, 0, 0, 0.15);\n",
              "      filter: drop-shadow(0px 1px 2px rgba(0, 0, 0, 0.3));\n",
              "      fill: #FFFFFF;\n",
              "    }\n",
              "  </style>\n",
              "\n",
              "      <script>\n",
              "        const buttonEl =\n",
              "          document.querySelector('#df-460abadb-0192-4202-8f4c-2e2c6850bcf9 button.colab-df-convert');\n",
              "        buttonEl.style.display =\n",
              "          google.colab.kernel.accessAllowed ? 'block' : 'none';\n",
              "\n",
              "        async function convertToInteractive(key) {\n",
              "          const element = document.querySelector('#df-460abadb-0192-4202-8f4c-2e2c6850bcf9');\n",
              "          const dataTable =\n",
              "            await google.colab.kernel.invokeFunction('convertToInteractive',\n",
              "                                                     [key], {});\n",
              "          if (!dataTable) return;\n",
              "\n",
              "          const docLinkHtml = 'Like what you see? Visit the ' +\n",
              "            '<a target=\"_blank\" href=https://colab.research.google.com/notebooks/data_table.ipynb>data table notebook</a>'\n",
              "            + ' to learn more about interactive tables.';\n",
              "          element.innerHTML = '';\n",
              "          dataTable['output_type'] = 'display_data';\n",
              "          await google.colab.output.renderOutput(dataTable, element);\n",
              "          const docLink = document.createElement('div');\n",
              "          docLink.innerHTML = docLinkHtml;\n",
              "          element.appendChild(docLink);\n",
              "        }\n",
              "      </script>\n",
              "    </div>\n",
              "  </div>\n",
              "  "
            ]
          },
          "metadata": {},
          "execution_count": 1
        }
      ],
      "source": [
        "#@title Setup Example Data: Health Nutrition\n",
        "\n",
        "# Import library\n",
        "import pandas as pd\n",
        "\n",
        "# Read data file: Health Nutrition\n",
        "data = pd.read_csv('https://raw.githubusercontent.com/vectrlab/apex-stats-datasets/main/healthnutritionandpopulation/example.csv')\n",
        "\n",
        "# Preview data\n",
        "data.head()"
      ]
    },
    {
      "cell_type": "markdown",
      "metadata": {
        "id": "Z7hggezDAe6n"
      },
      "source": [
        "## Exploratory Analyses (untested)\n",
        "\n",
        "- Estimate worldwide life expectancy in 2018\n",
        "- Descriptively examine life expectancy by country\n",
        "- Describe the distribution of life expectancy for 2018\n",
        "- Look for a linear relationship between year and life expectancy\n",
        "- Compare the life expectancy between two years\n",
        "- Repeated measures analysis of variance for life expectancy\n",
        "\n",
        "## Potential Activity Starters\n",
        "\n",
        "- Data exclusion and cleaning; why were data missing for some countries?\n",
        "- Variability in life expectancy; how do we quantify and interpret variability in life expectancy, and what is its implication?\n"
      ]
    }
  ],
  "metadata": {
    "colab": {
      "provenance": []
    },
    "kernelspec": {
      "display_name": "Python 3",
      "language": "python",
      "name": "python3"
    },
    "language_info": {
      "codemirror_mode": {
        "name": "ipython",
        "version": 3
      },
      "file_extension": ".py",
      "mimetype": "text/x-python",
      "name": "python",
      "nbconvert_exporter": "python",
      "pygments_lexer": "ipython3",
      "version": "3.8.5"
    },
    "gpuClass": "standard"
  },
  "nbformat": 4,
  "nbformat_minor": 0
}