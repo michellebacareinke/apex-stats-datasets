{
  "cells": [
    {
      "cell_type": "markdown",
      "metadata": {
        "colab_type": "text",
        "id": "view-in-github"
      },
      "source": [
        "<a href=\"https://colab.research.google.com/github/vectrlab/python-stats/blob/main/datasets/healthnutritionandpopulation/guide.ipynb\" target=\"_parent\"><img src=\"https://colab.research.google.com/assets/colab-badge.svg\" alt=\"Open In Colab\"/></a>"
      ]
    },
    {
      "cell_type": "markdown",
      "metadata": {},
      "source": [
        "# APEX STATS Dataset\n",
        "Prepared by David Schuster"
      ]
    },
    {
      "cell_type": "markdown",
      "metadata": {},
      "source": [
        "## Source Attribution\n",
        "\n",
        "Author: Data Copyright &copy; 2021 by The World Bank Group, All Rights Reserved\n",
        "\n",
        "Title: Health Nutrition and Population Statistics</a>\n",
        "\n",
        "Source: <a href=\"https://datacatalog.worldbank.org/search/dataset/0037652\">The World Bank Data Catalog</a>\n",
        "\n",
        "License: Creative Commons Attribution 4.0 (CC-BY 4.0)\n",
        "\n",
        "Changes: Data have been adapted for APEX STATS by David Schuster; missing cases have been removed in the example version\n"
      ]
    },
    {
      "cell_type": "markdown",
      "metadata": {},
      "source": [
        "## Description of the Original Data\n",
        "\n",
        "The World Bank has gathered health, nutrition and population statistics about a variety of countries. The data are reported from a variety of sources. These data can inform about international differences and similarities in surgery, health, disease, medicine, nutrition, population dynamics, reproductive health, and healthcare.\n"
      ]
    },
    {
      "cell_type": "markdown",
      "metadata": {},
      "source": [
        "## Description of the Example\n",
        "\n",
        "Access this example using the file `example.csv`.\n",
        "\n",
        "The example file is a subset of the original data. Only life expectancy at birth, for all genders, in years, is included.\n",
        "\n",
        "The unit of analysis (each row) is a country. \n",
        "\n",
        "The following variables are included:\n",
        "\n",
        "Y: The name of the country\n",
        "X: The life expectancy at birth for the year 2018, the latest data available at the time of this example\n",
        "X1: The life expectancy for 2008 (i.e., ten years before 2018)\n",
        "X2: The life expectancy for 1998\n",
        "X3: The life expectancy for 1988\n",
        "X4: The life expectancy for 1978\n",
        "X4: The life expectancy for 1968\n",
        "\n",
        "Due to missing data for one or more of these years, listwise deletion resulted in these these countries being removed from the data file: \n",
        "\n",
        "- American Samoa\n",
        "- Andorra\n",
        "- Bermuda\n",
        "- British Virgin Islands\n",
        "- Cayman Islands\n",
        "- Curacao\n",
        "- Dominica\n",
        "- Gibraltar\n",
        "- Isle of Man\n",
        "- Kosovo\n",
        "- Liechtenstein\n",
        "- Marshall Islands\n",
        "- Monaco\n",
        "- Nauru\n",
        "- Northern Mariana Islands\n",
        "- Palau\n",
        "- San Marino\n",
        "- Serbia\n",
        "- Sint Maarten (Dutch part)\n",
        "- St. Kitts and Nevis\n",
        "- Turks and Caicos Islands\n",
        "- Tuvalu\n",
        "- West Bank and Gaza\n",
        "\n",
        "The resulting data file has life expectancies for 195 countries for the years 1968, 1978, 1988, 1998, 2008, and 2018.\n",
        "\n",
        "The secondary file, `example2.csv` provides similar data organized in non-mutually exclusive regional categories. Note that this secondary file has not been cleaned and has missing data. This file is provided to manually pull test statistics (e.g., the worldwide average)."
      ]
    },
    {
      "cell_type": "markdown",
      "metadata": {},
      "source": [
        "## Discipline(s) Represented\n",
        "\n",
        "- Social Science\n",
        "- Political Science\n",
        "- Health Science"
      ]
    },
    {
      "cell_type": "markdown",
      "metadata": {},
      "source": [
        "## Exploratory Analyses (untested)\n",
        "\n",
        "- Estimate worldwide life expectancy in 2018\n",
        "- Descriptively examine life expectancy by country\n",
        "- Describe the distribution of life expectancy for 2018\n",
        "- Look for a linear relationship between year and life expectancy\n",
        "- Compare the life expectancy between two years\n",
        "- Repeated measures analysis of variance for life expectancy\n",
        "\n",
        "## Potential Activity Starters\n",
        "\n",
        "- Data exclusion and cleaning; why were data missing for some countries?\n",
        "- Variability in life expectancy; how do we quantify and interpret variability in life expectancy, and what is its implication?\n"
      ]
    }
  ],
  "metadata": {
    "colab": {
      "authorship_tag": "ABX9TyNU9DoL6ev4AJmtr+IFU4e3",
      "collapsed_sections": [],
      "include_colab_link": true,
      "name": "Codebase-Module.ipynb",
      "private_outputs": true,
      "provenance": [],
      "toc_visible": true
    },
    "kernelspec": {
      "display_name": "Python 3",
      "name": "python3"
    },
    "language_info": {
      "name": "python"
    }
  },
  "nbformat": 4,
  "nbformat_minor": 0
}
