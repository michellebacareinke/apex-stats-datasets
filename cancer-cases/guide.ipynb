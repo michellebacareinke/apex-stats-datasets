{
 "cells": [
  {
   "cell_type": "markdown",
   "metadata": {
    "id": "NTIuNTwD-omY"
   },
   "source": [
    "# APEX STATS Dataset\n",
    "Prepared by Andy Qui Le"
   ]
  },
  {
   "cell_type": "markdown",
   "metadata": {
    "id": "Z_B3g6Ve-5LF"
   },
   "source": [
    "## Source Attribution\n",
    "\n",
    "\n"
   ]
  },
  {
   "cell_type": "markdown",
   "metadata": {
    "id": "lFkGO97GfxZR"
   },
   "source": [
    "Author: Data Copyright @ 2021 by Opendata.maryland.gov\n",
    "\n",
    "Title: Number of Cancer Cases for All Cancer Sites by Jurisdiction, Gender, and Race, Maryland 2009\n",
    "\n",
    "Source: <a href=\"https://catalog.data.gov/dataset/number-of-cancer-cases-for-all-cancer-sites-by-jurisdiction-gender-and-race-maryland-2009\">Data.gov Data Catalog</a>\n",
    "\n",
    "License: Public Domain\n",
    "\n",
    "Changes: Data have been adapted for APEX STATS by Andy Qui Le\n",
    "\n"
   ]
  },
  {
   "cell_type": "markdown",
   "metadata": {
    "id": "6CJVS-pa-8Gm"
   },
   "source": [
    "## Description of the Original Data"
   ]
  },
  {
   "cell_type": "markdown",
   "metadata": {
    "id": "RmhMDIMlhKAl"
   },
   "source": [
    "Andrea Bankoski recorded the number of cancer cases grouped by gender and race. The total column includes cases reported as transexual, hermaphrodites, and unknown gender. The dataset is provided by Maryland Cancer Registry, and is under the jurisdiction of the state of Maryland."
   ]
  },
  {
   "cell_type": "markdown",
   "metadata": {
    "id": "Q_9BG3Cx_FuK"
   },
   "source": [
    "## Description of the Example"
   ]
  },
  {
   "cell_type": "markdown",
   "metadata": {
    "id": "va4SDSZ5joZC"
   },
   "source": [
    "Access this example using the file `example.csv`.\n",
    "\n",
    "The example file is the original data, with removal of columns with missing data.\n",
    "\n",
    "The unit of analysis (each row) is a county record of cancer cases.\n",
    "\n",
    "The following variables are included:\n",
    "\n",
    "Y: quality   \n",
    "X: Total   \n",
    "X1: Males   \n",
    "X2: Females   \n",
    "X3: Whites\n",
    "\n",
    "The secondary file, `example2.csv`, includes columns with missing data from other categories.\n",
    " \n",
    "The following variables are included:\n",
    "\n",
    "Y: quality   \n",
    "X: Total   \n",
    "X1: Males   \n",
    "X2: Females   \n",
    "X3: Whites  \n",
    "X4: Blacks  \n",
    "X5: Other Race  \n",
    "X6: Unknown Race  "
   ]
  },
  {
   "cell_type": "markdown",
   "metadata": {
    "id": "vagKhTD-_K6f"
   },
   "source": [
    "## Discipline(s) Represented\n",
    "\n",
    "* Business\n",
    "* Life science\n",
    "* Health science"
   ]
  },
  {
   "cell_type": "markdown",
   "metadata": {
    "id": "pmn-KNo4nkfI"
   },
   "source": [
    "## Dataset Preview\n"
   ]
  },
  {
   "cell_type": "code",
   "execution_count": 1,
   "metadata": {
    "id": "JX46yRSRnnOS"
   },
   "outputs": [
    {
     "data": {
      "text/html": [
       "<div>\n",
       "<style scoped>\n",
       "    .dataframe tbody tr th:only-of-type {\n",
       "        vertical-align: middle;\n",
       "    }\n",
       "\n",
       "    .dataframe tbody tr th {\n",
       "        vertical-align: top;\n",
       "    }\n",
       "\n",
       "    .dataframe thead th {\n",
       "        text-align: right;\n",
       "    }\n",
       "</style>\n",
       "<table border=\"1\" class=\"dataframe\">\n",
       "  <thead>\n",
       "    <tr style=\"text-align: right;\">\n",
       "      <th></th>\n",
       "      <th>Y</th>\n",
       "      <th>X</th>\n",
       "      <th>X1</th>\n",
       "      <th>X2</th>\n",
       "      <th>X3</th>\n",
       "    </tr>\n",
       "  </thead>\n",
       "  <tbody>\n",
       "    <tr>\n",
       "      <th>0</th>\n",
       "      <td>Maryland</td>\n",
       "      <td>26800</td>\n",
       "      <td>13346</td>\n",
       "      <td>13413</td>\n",
       "      <td>18912</td>\n",
       "    </tr>\n",
       "    <tr>\n",
       "      <th>1</th>\n",
       "      <td>Allegany</td>\n",
       "      <td>518</td>\n",
       "      <td>254</td>\n",
       "      <td>263</td>\n",
       "      <td>503</td>\n",
       "    </tr>\n",
       "    <tr>\n",
       "      <th>2</th>\n",
       "      <td>Anne Arundel</td>\n",
       "      <td>2589</td>\n",
       "      <td>1342</td>\n",
       "      <td>1241</td>\n",
       "      <td>2204</td>\n",
       "    </tr>\n",
       "    <tr>\n",
       "      <th>3</th>\n",
       "      <td>Baltimore City</td>\n",
       "      <td>3048</td>\n",
       "      <td>1512</td>\n",
       "      <td>1533</td>\n",
       "      <td>1094</td>\n",
       "    </tr>\n",
       "    <tr>\n",
       "      <th>4</th>\n",
       "      <td>Baltimore County</td>\n",
       "      <td>4369</td>\n",
       "      <td>2081</td>\n",
       "      <td>2285</td>\n",
       "      <td>3502</td>\n",
       "    </tr>\n",
       "  </tbody>\n",
       "</table>\n",
       "</div>"
      ],
      "text/plain": [
       "                  Y      X     X1     X2     X3\n",
       "0          Maryland  26800  13346  13413  18912\n",
       "1          Allegany    518    254    263    503\n",
       "2      Anne Arundel   2589   1342   1241   2204\n",
       "3    Baltimore City   3048   1512   1533   1094\n",
       "4  Baltimore County   4369   2081   2285   3502"
      ]
     },
     "execution_count": 1,
     "metadata": {},
     "output_type": "execute_result"
    }
   ],
   "source": [
    "#@title Preview Code\n",
    "import pandas as pd\n",
    "data = pd.read_csv(\"https://raw.githubusercontent.com/vectrlab/apex-python-datasets/main/cancer-cases/example.csv\")\n",
    "data.head(5)"
   ]
  }
 ],
 "metadata": {
  "colab": {
   "name": "cancer-cases-dataset-guide.ipynb",
   "private_outputs": true,
   "provenance": [],
   "toc_visible": true
  },
  "kernelspec": {
   "display_name": "Python 3",
   "language": "python",
   "name": "python3"
  },
  "language_info": {
   "codemirror_mode": {
    "name": "ipython",
    "version": 3
   },
   "file_extension": ".py",
   "mimetype": "text/x-python",
   "name": "python",
   "nbconvert_exporter": "python",
   "pygments_lexer": "ipython3",
   "version": "3.8.5"
  }
 },
 "nbformat": 4,
 "nbformat_minor": 1
}
