{
  "nbformat": 4,
  "nbformat_minor": 0,
  "metadata": {
    "colab": {
      "name": "wine-quality-dataset-guide.ipynb",
      "private_outputs": true,
      "provenance": [],
      "toc_visible": true
    },
    "kernelspec": {
      "name": "python3",
      "display_name": "Python 3"
    },
    "language_info": {
      "name": "python"
    }
  },
  "cells": [
    {
      "cell_type": "markdown",
      "source": [
        "# APEX STATS Dataset\n",
        "Prepared by Andy Qui Le"
      ],
      "metadata": {
        "id": "NTIuNTwD-omY"
      }
    },
    {
      "cell_type": "markdown",
      "source": [
        "## Source Attribution\n",
        "\n",
        "\n"
      ],
      "metadata": {
        "id": "Z_B3g6Ve-5LF"
      }
    },
    {
      "cell_type": "markdown",
      "source": [
        "Author: Paulo Cortez (Univ. Minho), Antonio Cerdeira, Fernando Almeida, Telmo Matos and Jose Reis (CVRVV) @ 2009\n",
        "\n",
        "Title: Wine Quality\n",
        "\n",
        "Source: <a href=\"https://archive.ics.uci.edu/ml/datasets/Wine+Quality\">UCI Machine Learning Repository<a>\n",
        "\n",
        "License: Public Domain\n",
        "\n",
        "Changes: Data have been adapted for APEX STATS by Andy Qui Le\n",
        "\n"
      ],
      "metadata": {
        "id": "lFkGO97GfxZR"
      }
    },
    {
      "cell_type": "markdown",
      "source": [
        "## Description of the Original Data"
      ],
      "metadata": {
        "id": "6CJVS-pa-8Gm"
      }
    },
    {
      "cell_type": "markdown",
      "source": [
        "Authors collected physicochemical information using red wine samples. The data are available on UCI Machine Learning Repository. These data display the characteristics of red wine samples, corresponding with physicochemical variables, and their qualities reported as sensory data that were produced by evaluations of wine experts."
      ],
      "metadata": {
        "id": "RmhMDIMlhKAl"
      }
    },
    {
      "cell_type": "markdown",
      "source": [
        "## Description of the Example"
      ],
      "metadata": {
        "id": "Q_9BG3Cx_FuK"
      }
    },
    {
      "cell_type": "markdown",
      "source": [
        "Access this example using the file `example.csv`.\n",
        "\n",
        "The example file is the original data, with a slight difference in which the quality of red wine sample is presented in the first column.\n",
        "\n",
        "The unit of analysis (each row) is a red wine sample.\n",
        "\n",
        "The following variables are included:\n",
        "\n",
        "Y: quality   \n",
        "X: fixed acidity   \n",
        "X1: volatile acidity   \n",
        "X2: citric acid   \n",
        "X3: residual sugar   \n",
        "X4: chlorides   \n",
        "X5: free sulfur dioxide  \n",
        "X6: total sulfur dioxide   \n",
        "X7: density   \n",
        "X8: pH   \n",
        "X9: sulphates   \n",
        "X10: alcohol   "
      ],
      "metadata": {
        "id": "va4SDSZ5joZC"
      }
    },
    {
      "cell_type": "markdown",
      "source": [
        "## Discipline(s) Represented\n",
        "\n",
        "* Business\n",
        "* Life science\n",
        "* Health science"
      ],
      "metadata": {
        "id": "vagKhTD-_K6f"
      }
    }
  ]
}