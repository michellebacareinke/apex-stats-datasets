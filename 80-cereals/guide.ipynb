{
  "nbformat": 4,
  "nbformat_minor": 0,
  "metadata": {
    "colab": {
      "name": "cereal-dataset-guide.ipynb",
      "private_outputs": true,
      "provenance": [],
      "toc_visible": true
    },
    "kernelspec": {
      "name": "python3",
      "display_name": "Python 3"
    },
    "language_info": {
      "name": "python"
    }
  },
  "cells": [
    {
      "cell_type": "markdown",
      "source": [
        "# APEX STATS Dataset\n",
        "Prepared by Andy Qui Le"
      ],
      "metadata": {
        "id": "NTIuNTwD-omY"
      }
    },
    {
      "cell_type": "markdown",
      "source": [
        "## Source Attribution\n",
        "\n",
        "\n"
      ],
      "metadata": {
        "id": "Z_B3g6Ve-5LF"
      }
    },
    {
      "cell_type": "markdown",
      "source": [
        "Author: Petra Isenberg, Pierre Dragicevic, and Yvonne Jansen\n",
        "\n",
        "Maintainer: Chris Crawford\n",
        "\n",
        "Title: 80 Cereals\n",
        "\n",
        "Source: <a href=\"https://www.kaggle.com/crawford/80-cereals\">Kaggle<a>\n",
        "\n",
        "License: CC BY-SA 3.0\n",
        "\n",
        "Changes: Data have been adapted for APEX STATS by Andy Qui Le; columns have been renamed and/or removed \n",
        "\n"
      ],
      "metadata": {
        "id": "lFkGO97GfxZR"
      }
    },
    {
      "cell_type": "markdown",
      "source": [
        "## Description of the Original Data"
      ],
      "metadata": {
        "id": "6CJVS-pa-8Gm"
      }
    },
    {
      "cell_type": "markdown",
      "source": [
        "Authors collected physicochemical information using red wine samples. The data are available on UCI Machine Learning Repository. These data display the characteristics of red wine samples, corresponding with physicochemical variables, and their qualities reported as sensory data that were produced by evaluations of wine experts."
      ],
      "metadata": {
        "id": "RmhMDIMlhKAl"
      }
    },
    {
      "cell_type": "markdown",
      "source": [
        "## Description of the Example"
      ],
      "metadata": {
        "id": "Q_9BG3Cx_FuK"
      }
    },
    {
      "cell_type": "markdown",
      "source": [
        "Access this example using the file `example.csv`.\n",
        "\n",
        "The example file is created using the original data, with columns being renamed and, in some cases, being removed.\n",
        "\n",
        "The unit of analysis (each row) is a cereal product with its nutritional data.\n",
        "\n",
        "The following variables are included:\n",
        "\n",
        "To be listed\n",
        "\n",
        "No data were missing in the original dataset."
      ],
      "metadata": {
        "id": "va4SDSZ5joZC"
      }
    },
    {
      "cell_type": "markdown",
      "source": [
        "## Discipline(s) Represented\n",
        "\n",
        "* Health science\n",
        "* Nutrition and food science\n",
        "* Education"
      ],
      "metadata": {
        "id": "vagKhTD-_K6f"
      }
    },
    {
      "cell_type": "markdown",
      "source": [
        "## Dataset Preview\n"
      ],
      "metadata": {
        "id": "pmn-KNo4nkfI"
      }
    },
    {
      "cell_type": "code",
      "source": [
        "#@title Preview Code\n",
        "import pandas as pd\n",
        "#data = pd.read_csv(\"https://raw.githubusercontent.com/vectrlab/apex-python-datasets/main/red-wine-quality/example.csv\")\n",
        "data.head(5)"
      ],
      "metadata": {
        "id": "JX46yRSRnnOS"
      },
      "execution_count": null,
      "outputs": []
    }
  ]
}