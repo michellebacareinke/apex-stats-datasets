{
 "cells": [
  {
   "cell_type": "markdown",
   "metadata": {
    "id": "NTIuNTwD-omY"
   },
   "source": [
    "# APEX STATS Dataset\n",
    "Prepared by Andy Qui Le"
   ]
  },
  {
   "cell_type": "markdown",
   "metadata": {
    "id": "Z_B3g6Ve-5LF"
   },
   "source": [
    "## Source Attribution\n",
    "\n",
    "\n"
   ]
  },
  {
   "cell_type": "markdown",
   "metadata": {
    "id": "lFkGO97GfxZR"
   },
   "source": [
    "Author: Petra Isenberg, Pierre Dragicevic, and Yvonne Jansen\n",
    "\n",
    "Maintainer: Chris Crawford\n",
    "\n",
    "Title: 80 Cereals\n",
    "\n",
    "Source: <a href=\"https://www.kaggle.com/crawford/80-cereals\">Kaggle<a>\n",
    "\n",
    "License: CC BY-SA 3.0    \n",
    "    \n",
    "Changes: Data have been adapted for APEX STATS by Andy Qui Le; columns have been renamed and/or removed \n",
    "\n"
   ]
  },
  {
   "cell_type": "markdown",
   "metadata": {
    "id": "6CJVS-pa-8Gm"
   },
   "source": [
    "## Description of the Original Data"
   ]
  },
  {
   "cell_type": "markdown",
   "metadata": {
    "id": "RmhMDIMlhKAl"
   },
   "source": [
    "Authors collected information for 80 different cereal products. The data are available on Kaggle. These data display many nutritional details often found on cereal product packages, such as calories, protein and sugars."
   ]
  },
  {
   "cell_type": "markdown",
   "metadata": {
    "id": "Q_9BG3Cx_FuK"
   },
   "source": [
    "## Description of the Example"
   ]
  },
  {
   "cell_type": "markdown",
   "metadata": {
    "id": "va4SDSZ5joZC"
   },
   "source": [
    "Access this example using the file `example.csv`.\n",
    "\n",
    "The example file is created using the original data, with columns being renamed and, in some cases, being removed.\n",
    "\n",
    "The unit of analysis (each row) is a cereal product with its nutritional data.\n",
    "\n",
    "The following variables are included:\n",
    "\n",
    "To be listed\n",
    "\n",
    "No data were missing in the original dataset."
   ]
  },
  {
   "cell_type": "markdown",
   "metadata": {
    "id": "vagKhTD-_K6f"
   },
   "source": [
    "## Discipline(s) Represented\n",
    "\n",
    "* Health science\n",
    "* Nutrition and food science\n",
    "* Education"
   ]
  },
  {
   "cell_type": "markdown",
   "metadata": {
    "id": "pmn-KNo4nkfI"
   },
   "source": [
    "## Dataset Preview\n"
   ]
  },
  {
   "cell_type": "code",
   "execution_count": null,
   "metadata": {
    "id": "JX46yRSRnnOS"
   },
   "outputs": [],
   "source": [
    "#@title Preview Code\n",
    "import pandas as pd\n",
    "#data = pd.read_csv(\"https://raw.githubusercontent.com/vectrlab/apex-python-datasets/main/red-wine-quality/example.csv\")\n",
    "data.head(5)"
   ]
  }
 ],
 "metadata": {
  "colab": {
   "name": "cereal-dataset-guide.ipynb",
   "private_outputs": true,
   "provenance": [],
   "toc_visible": true
  },
  "kernelspec": {
   "display_name": "Python 3",
   "language": "python",
   "name": "python3"
  },
  "language_info": {
   "codemirror_mode": {
    "name": "ipython",
    "version": 3
   },
   "file_extension": ".py",
   "mimetype": "text/x-python",
   "name": "python",
   "nbconvert_exporter": "python",
   "pygments_lexer": "ipython3",
   "version": "3.8.5"
  }
 },
 "nbformat": 4,
 "nbformat_minor": 1
}
