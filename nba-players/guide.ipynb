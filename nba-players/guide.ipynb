{
  "cells": [
    {
      "cell_type": "markdown",
      "metadata": {
        "id": "NTIuNTwD-omY"
      },
      "source": [
        "# APEX STATS Dataset\n",
        "Prepared by Andy Qui Le"
      ]
    },
    {
      "cell_type": "markdown",
      "metadata": {
        "id": "Z_B3g6Ve-5LF"
      },
      "source": [
        "## Source Attribution\n",
        "\n",
        "\n"
      ]
    },
    {
      "cell_type": "markdown",
      "metadata": {
        "id": "lFkGO97GfxZR"
      },
      "source": [
        "Author: Justinas Cirtautas\n",
        "\n",
        "Title: NBA Players\n",
        "\n",
        "Source: <a href=\"https://www.kaggle.com/datasets/justinas/nba-players-data?select=all_seasons.csv\">Kaggle</a>\n",
        "\n",
        "License: Public Domain\n",
        "\n",
        "Changes: Data have been adapted for APEX STATS by Andy Qui Le; columns have been renamed and/or removed\n",
        "\n"
      ]
    },
    {
      "cell_type": "markdown",
      "metadata": {
        "id": "6CJVS-pa-8Gm"
      },
      "source": [
        "## Description of the Original Data"
      ]
    },
    {
      "cell_type": "markdown",
      "metadata": {
        "id": "RmhMDIMlhKAl"
      },
      "source": [
        "Author collects data about each basketball player from the NBA [website](https://www.nba.com/stats/). The data are available on Kaggle."
      ]
    },
    {
      "cell_type": "markdown",
      "metadata": {
        "id": "Q_9BG3Cx_FuK"
      },
      "source": [
        "## Description of the Example"
      ]
    },
    {
      "cell_type": "markdown",
      "metadata": {
        "id": "va4SDSZ5joZC"
      },
      "source": [
        "Access this example using the file `example.csv`.\n",
        "\n",
        "The example file is created using the original data, with columns being renamed and, in some cases, being removed.\n",
        "\n",
        "The unit of analysis (each row) is an NBA player.\n",
        "\n",
        "The following variables are included:\n",
        "\n",
        "y: net_rating (team's point differential per 100 possessions while player is on the floor)  \n",
        "x: gp (games played throughout the season)  \n",
        "x1: pts (average number of points scored)  \n",
        "x2: reb (average number of rebounds grabbed)  \n",
        "x3: ast (average number of assists distributed)  \n",
        "x4: oreb_pct (percentage of available offensive rebounds the player grabbed while on the floor)   \n",
        "x5: dreb_pct (percentage of available defensive rebounds the player grabbed while on the floor)    \n",
        "x6: player_height   \n",
        "x7: player_weight   \n",
        "x8: age   \n",
        "x9: player_name   \n",
        "x10: team_abbreviation   \n",
        "\n",
        "No data were missing in the original dataset."
      ]
    },
    {
      "cell_type": "markdown",
      "metadata": {
        "id": "vagKhTD-_K6f"
      },
      "source": [
        "## Discipline(s) Represented\n",
        "\n",
        "* Sports Analytics\n",
        "* Business\n",
        "* Health Science\n",
        "* Kinesiology"
      ]
    },
    {
      "cell_type": "markdown",
      "metadata": {
        "id": "pmn-KNo4nkfI"
      },
      "source": [
        "## Dataset Preview\n"
      ]
    },
    {
      "cell_type": "code",
      "execution_count": null,
      "metadata": {
        "id": "JX46yRSRnnOS",
        "colab": {
          "base_uri": "https://localhost:8080/",
          "height": 206
        },
        "outputId": "6340306f-3617-455e-8803-48a5d7ca4b38"
      },
      "outputs": [
        {
          "output_type": "execute_result",
          "data": {
            "text/plain": [
              "      y   x   x1   x2   x3     x4     x5      x6         x7    x8  \\\n",
              "0   6.2  71  4.8  4.5  0.5  0.127  0.182  213.36  106.59412  22.0   \n",
              "1 -15.1   6  0.3  0.8  0.0  0.143  0.267  210.82  106.59412  27.0   \n",
              "2   0.9  71  4.5  1.6  0.9  0.016  0.115  208.28  106.59412  30.0   \n",
              "3  -9.0  74  7.8  4.4  1.4  0.083  0.152  210.82  111.13004  29.0   \n",
              "4 -14.5  42  3.7  1.6  0.5  0.109  0.118  205.74  106.59412  22.0   \n",
              "\n",
              "                x9  x10  \n",
              "0    Travis Knight  LAL  \n",
              "1        Matt Fish  MIA  \n",
              "2     Matt Bullard  HOU  \n",
              "3     Marty Conlon  BOS  \n",
              "4  Martin Muursepp  DAL  "
            ],
            "text/html": [
              "\n",
              "  <div id=\"df-02427560-156e-4a2b-96e9-be227fe854f6\">\n",
              "    <div class=\"colab-df-container\">\n",
              "      <div>\n",
              "<style scoped>\n",
              "    .dataframe tbody tr th:only-of-type {\n",
              "        vertical-align: middle;\n",
              "    }\n",
              "\n",
              "    .dataframe tbody tr th {\n",
              "        vertical-align: top;\n",
              "    }\n",
              "\n",
              "    .dataframe thead th {\n",
              "        text-align: right;\n",
              "    }\n",
              "</style>\n",
              "<table border=\"1\" class=\"dataframe\">\n",
              "  <thead>\n",
              "    <tr style=\"text-align: right;\">\n",
              "      <th></th>\n",
              "      <th>y</th>\n",
              "      <th>x</th>\n",
              "      <th>x1</th>\n",
              "      <th>x2</th>\n",
              "      <th>x3</th>\n",
              "      <th>x4</th>\n",
              "      <th>x5</th>\n",
              "      <th>x6</th>\n",
              "      <th>x7</th>\n",
              "      <th>x8</th>\n",
              "      <th>x9</th>\n",
              "      <th>x10</th>\n",
              "    </tr>\n",
              "  </thead>\n",
              "  <tbody>\n",
              "    <tr>\n",
              "      <th>0</th>\n",
              "      <td>6.2</td>\n",
              "      <td>71</td>\n",
              "      <td>4.8</td>\n",
              "      <td>4.5</td>\n",
              "      <td>0.5</td>\n",
              "      <td>0.127</td>\n",
              "      <td>0.182</td>\n",
              "      <td>213.36</td>\n",
              "      <td>106.59412</td>\n",
              "      <td>22.0</td>\n",
              "      <td>Travis Knight</td>\n",
              "      <td>LAL</td>\n",
              "    </tr>\n",
              "    <tr>\n",
              "      <th>1</th>\n",
              "      <td>-15.1</td>\n",
              "      <td>6</td>\n",
              "      <td>0.3</td>\n",
              "      <td>0.8</td>\n",
              "      <td>0.0</td>\n",
              "      <td>0.143</td>\n",
              "      <td>0.267</td>\n",
              "      <td>210.82</td>\n",
              "      <td>106.59412</td>\n",
              "      <td>27.0</td>\n",
              "      <td>Matt Fish</td>\n",
              "      <td>MIA</td>\n",
              "    </tr>\n",
              "    <tr>\n",
              "      <th>2</th>\n",
              "      <td>0.9</td>\n",
              "      <td>71</td>\n",
              "      <td>4.5</td>\n",
              "      <td>1.6</td>\n",
              "      <td>0.9</td>\n",
              "      <td>0.016</td>\n",
              "      <td>0.115</td>\n",
              "      <td>208.28</td>\n",
              "      <td>106.59412</td>\n",
              "      <td>30.0</td>\n",
              "      <td>Matt Bullard</td>\n",
              "      <td>HOU</td>\n",
              "    </tr>\n",
              "    <tr>\n",
              "      <th>3</th>\n",
              "      <td>-9.0</td>\n",
              "      <td>74</td>\n",
              "      <td>7.8</td>\n",
              "      <td>4.4</td>\n",
              "      <td>1.4</td>\n",
              "      <td>0.083</td>\n",
              "      <td>0.152</td>\n",
              "      <td>210.82</td>\n",
              "      <td>111.13004</td>\n",
              "      <td>29.0</td>\n",
              "      <td>Marty Conlon</td>\n",
              "      <td>BOS</td>\n",
              "    </tr>\n",
              "    <tr>\n",
              "      <th>4</th>\n",
              "      <td>-14.5</td>\n",
              "      <td>42</td>\n",
              "      <td>3.7</td>\n",
              "      <td>1.6</td>\n",
              "      <td>0.5</td>\n",
              "      <td>0.109</td>\n",
              "      <td>0.118</td>\n",
              "      <td>205.74</td>\n",
              "      <td>106.59412</td>\n",
              "      <td>22.0</td>\n",
              "      <td>Martin Muursepp</td>\n",
              "      <td>DAL</td>\n",
              "    </tr>\n",
              "  </tbody>\n",
              "</table>\n",
              "</div>\n",
              "      <button class=\"colab-df-convert\" onclick=\"convertToInteractive('df-02427560-156e-4a2b-96e9-be227fe854f6')\"\n",
              "              title=\"Convert this dataframe to an interactive table.\"\n",
              "              style=\"display:none;\">\n",
              "        \n",
              "  <svg xmlns=\"http://www.w3.org/2000/svg\" height=\"24px\"viewBox=\"0 0 24 24\"\n",
              "       width=\"24px\">\n",
              "    <path d=\"M0 0h24v24H0V0z\" fill=\"none\"/>\n",
              "    <path d=\"M18.56 5.44l.94 2.06.94-2.06 2.06-.94-2.06-.94-.94-2.06-.94 2.06-2.06.94zm-11 1L8.5 8.5l.94-2.06 2.06-.94-2.06-.94L8.5 2.5l-.94 2.06-2.06.94zm10 10l.94 2.06.94-2.06 2.06-.94-2.06-.94-.94-2.06-.94 2.06-2.06.94z\"/><path d=\"M17.41 7.96l-1.37-1.37c-.4-.4-.92-.59-1.43-.59-.52 0-1.04.2-1.43.59L10.3 9.45l-7.72 7.72c-.78.78-.78 2.05 0 2.83L4 21.41c.39.39.9.59 1.41.59.51 0 1.02-.2 1.41-.59l7.78-7.78 2.81-2.81c.8-.78.8-2.07 0-2.86zM5.41 20L4 18.59l7.72-7.72 1.47 1.35L5.41 20z\"/>\n",
              "  </svg>\n",
              "      </button>\n",
              "      \n",
              "  <style>\n",
              "    .colab-df-container {\n",
              "      display:flex;\n",
              "      flex-wrap:wrap;\n",
              "      gap: 12px;\n",
              "    }\n",
              "\n",
              "    .colab-df-convert {\n",
              "      background-color: #E8F0FE;\n",
              "      border: none;\n",
              "      border-radius: 50%;\n",
              "      cursor: pointer;\n",
              "      display: none;\n",
              "      fill: #1967D2;\n",
              "      height: 32px;\n",
              "      padding: 0 0 0 0;\n",
              "      width: 32px;\n",
              "    }\n",
              "\n",
              "    .colab-df-convert:hover {\n",
              "      background-color: #E2EBFA;\n",
              "      box-shadow: 0px 1px 2px rgba(60, 64, 67, 0.3), 0px 1px 3px 1px rgba(60, 64, 67, 0.15);\n",
              "      fill: #174EA6;\n",
              "    }\n",
              "\n",
              "    [theme=dark] .colab-df-convert {\n",
              "      background-color: #3B4455;\n",
              "      fill: #D2E3FC;\n",
              "    }\n",
              "\n",
              "    [theme=dark] .colab-df-convert:hover {\n",
              "      background-color: #434B5C;\n",
              "      box-shadow: 0px 1px 3px 1px rgba(0, 0, 0, 0.15);\n",
              "      filter: drop-shadow(0px 1px 2px rgba(0, 0, 0, 0.3));\n",
              "      fill: #FFFFFF;\n",
              "    }\n",
              "  </style>\n",
              "\n",
              "      <script>\n",
              "        const buttonEl =\n",
              "          document.querySelector('#df-02427560-156e-4a2b-96e9-be227fe854f6 button.colab-df-convert');\n",
              "        buttonEl.style.display =\n",
              "          google.colab.kernel.accessAllowed ? 'block' : 'none';\n",
              "\n",
              "        async function convertToInteractive(key) {\n",
              "          const element = document.querySelector('#df-02427560-156e-4a2b-96e9-be227fe854f6');\n",
              "          const dataTable =\n",
              "            await google.colab.kernel.invokeFunction('convertToInteractive',\n",
              "                                                     [key], {});\n",
              "          if (!dataTable) return;\n",
              "\n",
              "          const docLinkHtml = 'Like what you see? Visit the ' +\n",
              "            '<a target=\"_blank\" href=https://colab.research.google.com/notebooks/data_table.ipynb>data table notebook</a>'\n",
              "            + ' to learn more about interactive tables.';\n",
              "          element.innerHTML = '';\n",
              "          dataTable['output_type'] = 'display_data';\n",
              "          await google.colab.output.renderOutput(dataTable, element);\n",
              "          const docLink = document.createElement('div');\n",
              "          docLink.innerHTML = docLinkHtml;\n",
              "          element.appendChild(docLink);\n",
              "        }\n",
              "      </script>\n",
              "    </div>\n",
              "  </div>\n",
              "  "
            ]
          },
          "metadata": {},
          "execution_count": 1
        }
      ],
      "source": [
        "#@title Setup Example Data: NBA Players\n",
        "\n",
        "# Import library\n",
        "import pandas as pd\n",
        "\n",
        "# Read data file: NBA Players\n",
        "data = pd.read_csv('https://raw.githubusercontent.com/vectrlab/apex-stats-datasets/main/nba-players/example.csv')\n",
        "\n",
        "# Preview data\n",
        "data.head()"
      ]
    },
    {
      "cell_type": "markdown",
      "metadata": {
        "id": "__NnScekD_p8"
      },
      "source": [
        "## Exploratory Analyses (untested)"
      ]
    },
    {
      "cell_type": "markdown",
      "metadata": {
        "id": "eGpsOHnvD_p9"
      },
      "source": [
        "* Bivariate relationships between quantitative variables\n",
        "* Investigate possible dependent or independent relationships between quantitative variables\n",
        "* Explore changes in player's age, height, weight and other variables in each decade"
      ]
    },
    {
      "cell_type": "markdown",
      "metadata": {
        "id": "bSzN-gKnD_p9"
      },
      "source": [
        "## Potential Activity Starters"
      ]
    },
    {
      "cell_type": "markdown",
      "metadata": {
        "id": "RlxeeuLJD_p9"
      },
      "source": [
        "* Compare and contrast shapes of distributions for all variables\n",
        "* Is there a relationship between player's weight and number of rebounds? Is it a linear relationship?\n",
        "* What factors predict net rating of a player?"
      ]
    }
  ],
  "metadata": {
    "colab": {
      "provenance": []
    },
    "kernelspec": {
      "display_name": "Python 3",
      "language": "python",
      "name": "python3"
    },
    "language_info": {
      "codemirror_mode": {
        "name": "ipython",
        "version": 3
      },
      "file_extension": ".py",
      "mimetype": "text/x-python",
      "name": "python",
      "nbconvert_exporter": "python",
      "pygments_lexer": "ipython3",
      "version": "3.8.5"
    },
    "gpuClass": "standard"
  },
  "nbformat": 4,
  "nbformat_minor": 0
}