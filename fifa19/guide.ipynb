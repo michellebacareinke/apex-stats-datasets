{
 "cells": [
  {
   "cell_type": "markdown",
   "metadata": {
    "colab_type": "text",
    "id": "view-in-github"
   },
   "source": [
    "<a href=\"https://colab.research.google.com/github/vectrlab/python-stats/blob/main/datasets/healthnutritionandpopulation/guide.ipynb\" target=\"_parent\"><img src=\"https://colab.research.google.com/assets/colab-badge.svg\" alt=\"Open In Colab\"/></a>"
   ]
  },
  {
   "cell_type": "markdown",
   "metadata": {},
   "source": [
    "# APEX STATS Dataset: FIFA 19\n",
    "Prepared by David Schuster"
   ]
  },
  {
   "cell_type": "markdown",
   "metadata": {},
   "source": [
    "## Source Attribution\n",
    "\n",
    "Author: Data Copyright &copy; 2019 by Karan Gadiya\n",
    "\n",
    "Title: FIFA 19 complete player dataset</a>\n",
    "\n",
    "Source: <a href=\"https://www.kaggle.com/karangadiya/fifa19\">Kaggle</a>\n",
    "\n",
    "License: Attribution-NonCommercial-ShareAlike 4.0 International (CC BY-NC-SA 4.0)\n",
    "\n",
    "Changes: Data have been adapted for APEX STATS by David Schuster; columns have been removed and renamed.\n"
   ]
  },
  {
   "cell_type": "markdown",
   "metadata": {},
   "source": [
    "## Description of the Original Data\n",
    "\n",
    "The data file lists attributes for every player in the video game FIFA 19."
   ]
  },
  {
   "cell_type": "markdown",
   "metadata": {},
   "source": [
    "## Description of the Example\n",
    "\n",
    "Access this example using the file `example.csv`.\n",
    "\n",
    "The example file is a subset of the original data. Only player name, age, club, wage, position, jersey number, heading accuracy, dribbling skill, agility, and shot power are included. \n",
    "\n",
    "The unit of analysis (each row) is a player. \n",
    "\n",
    "The following variables are included:\n",
    "\n",
    "Y: Wage in thousands of Euros  \n",
    "X: Age in years  \n",
    "X1: HeadingAccuracy  \n",
    "X2: Dribbling  \n",
    "X3: Agility  \n",
    "X4: ShotPower  \n",
    "X5: Jersey Number  \n",
    "X6: Position (abbreviated)  \n",
    "X7: Name  \n",
    "X8: Club  \n",
    "\n",
    "No data were missing in the original dataset."
   ]
  },
  {
   "cell_type": "markdown",
   "metadata": {},
   "source": [
    "## Discipline(s) Represented\n",
    "\n",
    "- Business\n",
    "- Health Science\n",
    "- Kinesiology"
   ]
  },
  {
   "cell_type": "markdown",
   "metadata": {},
   "source": [
    "## Dataset Preview\n",
    "\n",
    "This is a placeholder for a Pandas preview of the data\n"
   ]
  },
  {
   "cell_type": "markdown",
   "metadata": {},
   "source": [
    "## Exploratory Analyses (untested)\n",
    "\n",
    "- Bivariate relationships among the quantitative variables: age, salary, player ratings\n",
    "\n",
    "## Potential Activity Starters\n",
    "\n",
    "- What factors predict player salary?\n",
    "- How do the shapes of the distributions differ for different attributes?\n",
    "- Is there a relationship between age and player ratings? Is that relationship linear?\n"
   ]
  }
 ],
 "metadata": {
  "colab": {
   "authorship_tag": "ABX9TyNU9DoL6ev4AJmtr+IFU4e3",
   "collapsed_sections": [],
   "include_colab_link": true,
   "name": "Codebase-Module.ipynb",
   "private_outputs": true,
   "provenance": [],
   "toc_visible": true
  },
  "kernelspec": {
   "display_name": "Python 3",
   "language": "python",
   "name": "python3"
  },
  "language_info": {
   "codemirror_mode": {
    "name": "ipython",
    "version": 3
   },
   "file_extension": ".py",
   "mimetype": "text/x-python",
   "name": "python",
   "nbconvert_exporter": "python",
   "pygments_lexer": "ipython3",
   "version": "3.8.5"
  }
 },
 "nbformat": 4,
 "nbformat_minor": 1
}
