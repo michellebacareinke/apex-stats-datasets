{
 "cells": [
  {
   "cell_type": "markdown",
   "metadata": {
    "colab_type": "text",
    "id": "view-in-github"
   },
   "source": [
    "<a href=\"https://colab.research.google.com/github/vectrlab/python-stats/blob/main/datasets/healthnutritionandpopulation/guide.ipynb\" target=\"_parent\"><img src=\"https://colab.research.google.com/assets/colab-badge.svg\" alt=\"Open In Colab\"/></a>"
   ]
  },
  {
   "cell_type": "markdown",
   "metadata": {},
   "source": [
    "# APEX STATS Dataset: FIFA 19\n",
    "Prepared by David Schuster"
   ]
  },
  {
   "cell_type": "markdown",
   "metadata": {},
   "source": [
    "## Source Attribution\n",
    "\n",
    "Author: Data Copyright &copy; 2019 by Karan Gadiya\n",
    "\n",
    "Title: FIFA 19 complete player dataset\n",
    "\n",
    "Source: <a href=\"https://www.kaggle.com/karangadiya/fifa19\">Kaggle</a>\n",
    "\n",
    "License: Attribution-NonCommercial-ShareAlike 4.0 International (CC BY-NC-SA 4.0)\n",
    "\n",
    "Changes: Data have been adapted for APEX STATS by David Schuster; columns have been removed and renamed.\n"
   ]
  },
  {
   "cell_type": "markdown",
   "metadata": {},
   "source": [
    "## Description of the Original Data\n",
    "\n",
    "The data file lists attributes for every player in the video game FIFA 19."
   ]
  },
  {
   "cell_type": "markdown",
   "metadata": {},
   "source": [
    "## Description of the Example\n",
    "\n",
    "Access this example using the file `example.csv`.\n",
    "\n",
    "The example file is a subset of the original data. Only player name, age, club, wage, position, jersey number, heading accuracy, dribbling skill, agility, and shot power are included. \n",
    "\n",
    "The unit of analysis (each row) is a player. \n",
    "\n",
    "The following variables are included:\n",
    "\n",
    "Y: Wage in thousands of Euros  \n",
    "X: Age in years  \n",
    "X1: HeadingAccuracy  \n",
    "X2: Dribbling  \n",
    "X3: Agility  \n",
    "X4: ShotPower  \n",
    "X5: Jersey Number  \n",
    "X6: Position (abbreviated)  \n",
    "X7: Name  \n",
    "X8: Club  \n",
    "\n",
    "No data were missing in the original dataset."
   ]
  },
  {
   "cell_type": "markdown",
   "metadata": {},
   "source": [
    "## Discipline(s) Represented\n",
    "\n",
    "- Business\n",
    "- Health Science\n",
    "- Kinesiology"
   ]
  },
  {
   "cell_type": "markdown",
   "metadata": {},
   "source": [
    "## Dataset Preview"
   ]
  },
  {
   "cell_type": "code",
   "execution_count": 1,
   "metadata": {},
   "outputs": [
    {
     "data": {
      "text/html": [
       "<div>\n",
       "<style scoped>\n",
       "    .dataframe tbody tr th:only-of-type {\n",
       "        vertical-align: middle;\n",
       "    }\n",
       "\n",
       "    .dataframe tbody tr th {\n",
       "        vertical-align: top;\n",
       "    }\n",
       "\n",
       "    .dataframe thead th {\n",
       "        text-align: right;\n",
       "    }\n",
       "</style>\n",
       "<table border=\"1\" class=\"dataframe\">\n",
       "  <thead>\n",
       "    <tr style=\"text-align: right;\">\n",
       "      <th></th>\n",
       "      <th>Y</th>\n",
       "      <th>X</th>\n",
       "      <th>X1</th>\n",
       "      <th>X2</th>\n",
       "      <th>X3</th>\n",
       "      <th>X4</th>\n",
       "      <th>X5</th>\n",
       "      <th>X6</th>\n",
       "      <th>X7</th>\n",
       "      <th>X8</th>\n",
       "    </tr>\n",
       "  </thead>\n",
       "  <tbody>\n",
       "    <tr>\n",
       "      <th>0</th>\n",
       "      <td>565</td>\n",
       "      <td>31</td>\n",
       "      <td>70.0</td>\n",
       "      <td>97.0</td>\n",
       "      <td>91.0</td>\n",
       "      <td>85.0</td>\n",
       "      <td>10.0</td>\n",
       "      <td>RF</td>\n",
       "      <td>L. Messi</td>\n",
       "      <td>FC Barcelona</td>\n",
       "    </tr>\n",
       "    <tr>\n",
       "      <th>1</th>\n",
       "      <td>405</td>\n",
       "      <td>33</td>\n",
       "      <td>89.0</td>\n",
       "      <td>88.0</td>\n",
       "      <td>87.0</td>\n",
       "      <td>95.0</td>\n",
       "      <td>7.0</td>\n",
       "      <td>ST</td>\n",
       "      <td>Cristiano Ronaldo</td>\n",
       "      <td>Juventus</td>\n",
       "    </tr>\n",
       "    <tr>\n",
       "      <th>2</th>\n",
       "      <td>290</td>\n",
       "      <td>26</td>\n",
       "      <td>62.0</td>\n",
       "      <td>96.0</td>\n",
       "      <td>96.0</td>\n",
       "      <td>80.0</td>\n",
       "      <td>10.0</td>\n",
       "      <td>LW</td>\n",
       "      <td>Neymar Jr</td>\n",
       "      <td>Paris Saint-Germain</td>\n",
       "    </tr>\n",
       "    <tr>\n",
       "      <th>3</th>\n",
       "      <td>260</td>\n",
       "      <td>27</td>\n",
       "      <td>21.0</td>\n",
       "      <td>18.0</td>\n",
       "      <td>60.0</td>\n",
       "      <td>31.0</td>\n",
       "      <td>1.0</td>\n",
       "      <td>GK</td>\n",
       "      <td>De Gea</td>\n",
       "      <td>Manchester United</td>\n",
       "    </tr>\n",
       "    <tr>\n",
       "      <th>4</th>\n",
       "      <td>355</td>\n",
       "      <td>27</td>\n",
       "      <td>55.0</td>\n",
       "      <td>86.0</td>\n",
       "      <td>79.0</td>\n",
       "      <td>91.0</td>\n",
       "      <td>7.0</td>\n",
       "      <td>RCM</td>\n",
       "      <td>K. De Bruyne</td>\n",
       "      <td>Manchester City</td>\n",
       "    </tr>\n",
       "  </tbody>\n",
       "</table>\n",
       "</div>"
      ],
      "text/plain": [
       "     Y   X    X1    X2    X3    X4    X5   X6                 X7  \\\n",
       "0  565  31  70.0  97.0  91.0  85.0  10.0   RF           L. Messi   \n",
       "1  405  33  89.0  88.0  87.0  95.0   7.0   ST  Cristiano Ronaldo   \n",
       "2  290  26  62.0  96.0  96.0  80.0  10.0   LW          Neymar Jr   \n",
       "3  260  27  21.0  18.0  60.0  31.0   1.0   GK             De Gea   \n",
       "4  355  27  55.0  86.0  79.0  91.0   7.0  RCM       K. De Bruyne   \n",
       "\n",
       "                    X8  \n",
       "0         FC Barcelona  \n",
       "1             Juventus  \n",
       "2  Paris Saint-Germain  \n",
       "3    Manchester United  \n",
       "4      Manchester City  "
      ]
     },
     "execution_count": 1,
     "metadata": {},
     "output_type": "execute_result"
    }
   ],
   "source": [
    "#@title Preview Code\n",
    "import pandas as pd\n",
    "data = pd.read_csv(\"https://raw.githubusercontent.com/vectrlab/apex-python-datasets/main/fifa19/example.csv\")\n",
    "data.head(5)"
   ]
  },
  {
   "cell_type": "markdown",
   "metadata": {},
   "source": [
    "## Exploratory Analyses (untested)\n",
    "\n",
    "- Bivariate relationships among the quantitative variables: age, salary, player ratings\n",
    "\n",
    "## Potential Activity Starters\n",
    "\n",
    "- What factors predict player salary?\n",
    "- How do the shapes of the distributions differ for different attributes?\n",
    "- Is there a relationship between age and player ratings? Is that relationship linear?\n"
   ]
  }
 ],
 "metadata": {
  "colab": {
   "authorship_tag": "ABX9TyNU9DoL6ev4AJmtr+IFU4e3",
   "collapsed_sections": [],
   "include_colab_link": true,
   "name": "Codebase-Module.ipynb",
   "private_outputs": true,
   "provenance": [],
   "toc_visible": true
  },
  "kernelspec": {
   "display_name": "Python 3",
   "language": "python",
   "name": "python3"
  },
  "language_info": {
   "codemirror_mode": {
    "name": "ipython",
    "version": 3
   },
   "file_extension": ".py",
   "mimetype": "text/x-python",
   "name": "python",
   "nbconvert_exporter": "python",
   "pygments_lexer": "ipython3",
   "version": "3.8.5"
  }
 },
 "nbformat": 4,
 "nbformat_minor": 1
}
