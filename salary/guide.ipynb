{
 "cells": [
  {
   "attachments": {},
   "cell_type": "markdown",
   "metadata": {
    "id": "NTIuNTwD-omY"
   },
   "source": [
    "# APEX STATS Dataset\n",
    "Prepared by Lily Lum"
   ]
  },
  {
   "attachments": {},
   "cell_type": "markdown",
   "metadata": {
    "id": "Z_B3g6Ve-5LF"
   },
   "source": [
    "## Source Attribution\n",
    "\n",
    "\n"
   ]
  },
  {
   "attachments": {},
   "cell_type": "markdown",
   "metadata": {
    "id": "lFkGO97GfxZR"
   },
   "source": [
    "Author: Lily Lum\n",
    "\n",
    "Title: Salary\n",
    "\n",
    "Source: <a href=\"https://www.kaggle.com/datasets/harsh45/random-salary-data-of-employes-age-wise\">Kaggle</a>\n",
    "\n",
    "License: Open data are believed to be not subject to copyright\n",
    "\n",
    "Changes: Data have been adapted for APEX STATS"
   ]
  },
  {
   "attachments": {},
   "cell_type": "markdown",
   "metadata": {
    "id": "6CJVS-pa-8Gm"
   },
   "source": [
    "## Description of the Original Data"
   ]
  },
  {
   "attachments": {},
   "cell_type": "markdown",
   "metadata": {
    "id": "RmhMDIMlhKAl"
   },
   "source": [
    "The data are salaries and years of experience for individuals."
   ]
  },
  {
   "attachments": {},
   "cell_type": "markdown",
   "metadata": {
    "id": "Q_9BG3Cx_FuK"
   },
   "source": [
    "## Description of the Example"
   ]
  },
  {
   "attachments": {},
   "cell_type": "markdown",
   "metadata": {
    "id": "va4SDSZ5joZC"
   },
   "source": [
    "Access this example using the file `example.csv`.\n",
    "\n",
    "The example file is the original data with columns renamed `x` and `y`.\n",
    "\n",
    "The unit of analysis (each row) is an individual.\n",
    "\n",
    "The following variables are included:\n",
    "\n",
    "y: salary   \n",
    "x: years of experience\n"
   ]
  },
  {
   "attachments": {},
   "cell_type": "markdown",
   "metadata": {
    "id": "vagKhTD-_K6f"
   },
   "source": [
    "## Discipline(s) Represented\n",
    "\n",
    "* Business\n"
   ]
  },
  {
   "attachments": {},
   "cell_type": "markdown",
   "metadata": {
    "id": "pmn-KNo4nkfI"
   },
   "source": [
    "## Dataset Preview\n"
   ]
  },
  {
   "cell_type": "code",
   "execution_count": null,
   "metadata": {
    "id": "JX46yRSRnnOS"
   },
   "outputs": [],
   "source": [
    "#@title Setup Example Data: Red Wine Quality\n",
    "\n",
    "# Import library\n",
    "import pandas as pd\n",
    "\n",
    "# Read data file: Red Wine Quality\n",
    "data = pd.read_csv('https://raw.githubusercontent.com/vectrlab/apex-stats-datasets/main/salary/example.csv')\n",
    "\n",
    "# Preview data\n",
    "data.head()"
   ]
  }
 ],
 "metadata": {
  "colab": {
   "name": "wine-quality-dataset-guide.ipynb",
   "private_outputs": true,
   "provenance": [],
   "toc_visible": true
  },
  "kernelspec": {
   "display_name": "Python 3",
   "language": "python",
   "name": "python3"
  },
  "language_info": {
   "codemirror_mode": {
    "name": "ipython",
    "version": 3
   },
   "file_extension": ".py",
   "mimetype": "text/x-python",
   "name": "python",
   "nbconvert_exporter": "python",
   "pygments_lexer": "ipython3",
   "version": "3.8.5"
  }
 },
 "nbformat": 4,
 "nbformat_minor": 1
}
