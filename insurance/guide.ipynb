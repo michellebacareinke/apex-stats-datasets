{
 "cells": [
  {
   "attachments": {},
   "cell_type": "markdown",
   "metadata": {
    "id": "EH-j63o51UuW"
   },
   "source": [
    "# APEX STATS Dataset\n",
    "Prepared by Andy Qui Le"
   ]
  },
  {
   "attachments": {},
   "cell_type": "markdown",
   "metadata": {
    "id": "MC30OoJH1rSb"
   },
   "source": [
    "## Source Attribution"
   ]
  },
  {
   "attachments": {},
   "cell_type": "markdown",
   "metadata": {
    "id": "kxIgiODk9PSi"
   },
   "source": [
    "Author: Data Copyright © 2013 by Brett Lantz   \n",
    "Maintainer: Miri Choi    \n",
    "Title: Medical Insurance Dataset   \n",
    "Source: <a href=\"https://www.kaggle.com/mirichoi0218/insurance\">Kaggle</a>   \n",
    "License: Database Contents   \n",
    "Changes: Data have been adapted for APEX STATS by Andy Qui Le; columns have been renamed."
   ]
  },
  {
   "attachments": {},
   "cell_type": "markdown",
   "metadata": {
    "id": "NAWM1wUq1t2P"
   },
   "source": [
    "## Description of the Original Data"
   ]
  },
  {
   "attachments": {},
   "cell_type": "markdown",
   "metadata": {
    "id": "uj6PQMY2FMfL"
   },
   "source": [
    "The data file lists information about individuals along with their medical insurance cost. The data are available on Kaggle."
   ]
  },
  {
   "attachments": {},
   "cell_type": "markdown",
   "metadata": {
    "id": "shjNubAU13LU"
   },
   "source": [
    "## Description of the Example"
   ]
  },
  {
   "attachments": {},
   "cell_type": "markdown",
   "metadata": {
    "id": "uE-0IPMMCALu"
   },
   "source": [
    "Access this example using the file `example.csv`.\n",
    "\n",
    "The example file is the original data, with columns being renamed.\n",
    "\n",
    "The unit of analysis (each row) is a record about an individual and their medical insurance cost.\n",
    "\n",
    "The following variables are included:\n",
    "\n",
    "y: charges   \n",
    "x: age   \n",
    "x1: sex   \n",
    "x2: bmi   \n",
    "x3: children  \n",
    "x4: smoker   \n",
    "x5: region  \n",
    "\n",
    "No data were missing in the original dataset. "
   ]
  },
  {
   "attachments": {},
   "cell_type": "markdown",
   "metadata": {
    "id": "5A51BZzw1-Tv"
   },
   "source": [
    "## Discipline(s) Represented"
   ]
  },
  {
   "attachments": {},
   "cell_type": "markdown",
   "metadata": {
    "id": "IG4eWV-n2Egs"
   },
   "source": [
    "* Business\n",
    "* Social Science\n",
    "* Health Science\n",
    "* Healthcare Policy"
   ]
  },
  {
   "attachments": {},
   "cell_type": "markdown",
   "metadata": {
    "id": "ng36SWSe2HOy"
   },
   "source": [
    "## Dataset Preview"
   ]
  },
  {
   "cell_type": "code",
   "execution_count": 1,
   "metadata": {},
   "outputs": [
    {
     "data": {
      "text/html": [
       "<div>\n",
       "<style scoped>\n",
       "    .dataframe tbody tr th:only-of-type {\n",
       "        vertical-align: middle;\n",
       "    }\n",
       "\n",
       "    .dataframe tbody tr th {\n",
       "        vertical-align: top;\n",
       "    }\n",
       "\n",
       "    .dataframe thead th {\n",
       "        text-align: right;\n",
       "    }\n",
       "</style>\n",
       "<table border=\"1\" class=\"dataframe\">\n",
       "  <thead>\n",
       "    <tr style=\"text-align: right;\">\n",
       "      <th></th>\n",
       "      <th>y</th>\n",
       "      <th>x</th>\n",
       "      <th>x1</th>\n",
       "      <th>x2</th>\n",
       "      <th>x3</th>\n",
       "      <th>x4</th>\n",
       "      <th>x5</th>\n",
       "    </tr>\n",
       "  </thead>\n",
       "  <tbody>\n",
       "    <tr>\n",
       "      <th>0</th>\n",
       "      <td>16884.92400</td>\n",
       "      <td>19</td>\n",
       "      <td>female</td>\n",
       "      <td>27.900</td>\n",
       "      <td>0</td>\n",
       "      <td>yes</td>\n",
       "      <td>southwest</td>\n",
       "    </tr>\n",
       "    <tr>\n",
       "      <th>1</th>\n",
       "      <td>1725.55230</td>\n",
       "      <td>18</td>\n",
       "      <td>male</td>\n",
       "      <td>33.770</td>\n",
       "      <td>1</td>\n",
       "      <td>no</td>\n",
       "      <td>southeast</td>\n",
       "    </tr>\n",
       "    <tr>\n",
       "      <th>2</th>\n",
       "      <td>4449.46200</td>\n",
       "      <td>28</td>\n",
       "      <td>male</td>\n",
       "      <td>33.000</td>\n",
       "      <td>3</td>\n",
       "      <td>no</td>\n",
       "      <td>southeast</td>\n",
       "    </tr>\n",
       "    <tr>\n",
       "      <th>3</th>\n",
       "      <td>21984.47061</td>\n",
       "      <td>33</td>\n",
       "      <td>male</td>\n",
       "      <td>22.705</td>\n",
       "      <td>0</td>\n",
       "      <td>no</td>\n",
       "      <td>northwest</td>\n",
       "    </tr>\n",
       "    <tr>\n",
       "      <th>4</th>\n",
       "      <td>3866.85520</td>\n",
       "      <td>32</td>\n",
       "      <td>male</td>\n",
       "      <td>28.880</td>\n",
       "      <td>0</td>\n",
       "      <td>no</td>\n",
       "      <td>northwest</td>\n",
       "    </tr>\n",
       "  </tbody>\n",
       "</table>\n",
       "</div>"
      ],
      "text/plain": [
       "             y   x      x1      x2  x3   x4         x5\n",
       "0  16884.92400  19  female  27.900   0  yes  southwest\n",
       "1   1725.55230  18    male  33.770   1   no  southeast\n",
       "2   4449.46200  28    male  33.000   3   no  southeast\n",
       "3  21984.47061  33    male  22.705   0   no  northwest\n",
       "4   3866.85520  32    male  28.880   0   no  northwest"
      ]
     },
     "execution_count": 1,
     "metadata": {},
     "output_type": "execute_result"
    }
   ],
   "source": [
    "#@title Setup Example Data: Medical Insurance\n",
    "\n",
    "# Import library\n",
    "import pandas as pd\n",
    "\n",
    "# Read data file: Medical Insurance\n",
    "data = pd.read_csv('https://raw.githubusercontent.com/vectrlab/apex-stats-datasets/main/insurance/example.csv')\n",
    "\n",
    "# Preview data\n",
    "data.head()"
   ]
  },
  {
   "attachments": {},
   "cell_type": "markdown",
   "metadata": {
    "id": "K_2hKqNE2PqO"
   },
   "source": [
    "## Exploratory Analyses (untested)"
   ]
  },
  {
   "attachments": {},
   "cell_type": "markdown",
   "metadata": {},
   "source": [
    "* Determine if quantitative variables are independent\n",
    "* Explore bivariate relationships between quantitative variables"
   ]
  },
  {
   "attachments": {},
   "cell_type": "markdown",
   "metadata": {
    "id": "EDuOpxbA2VWH"
   },
   "source": [
    "## Potential Activity Starters"
   ]
  },
  {
   "attachments": {},
   "cell_type": "markdown",
   "metadata": {},
   "source": [
    "* Do individuals with a history of smoking have higher insurance premium?\n",
    "* Do male and female individuals that have similar background (nonsmoker and no children) have similar insurance premiums?\n",
    "* Does geography affect the insurance premium that an individual has to pay?"
   ]
  }
 ],
 "metadata": {
  "colab": {
   "name": "insurance-data-guide",
   "private_outputs": true,
   "provenance": [],
   "toc_visible": true
  },
  "kernelspec": {
   "display_name": "Python 3",
   "language": "python",
   "name": "python3"
  },
  "language_info": {
   "codemirror_mode": {
    "name": "ipython",
    "version": 3
   },
   "file_extension": ".py",
   "mimetype": "text/x-python",
   "name": "python",
   "nbconvert_exporter": "python",
   "pygments_lexer": "ipython3",
   "version": "3.8.5"
  }
 },
 "nbformat": 4,
 "nbformat_minor": 1
}
