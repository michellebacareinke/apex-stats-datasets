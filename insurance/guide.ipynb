{
  "nbformat": 4,
  "nbformat_minor": 0,
  "metadata": {
    "colab": {
      "name": "insurance-data-guide",
      "private_outputs": true,
      "provenance": [],
      "toc_visible": true
    },
    "kernelspec": {
      "name": "python3",
      "display_name": "Python 3"
    },
    "language_info": {
      "name": "python"
    }
  },
  "cells": [
    {
      "cell_type": "markdown",
      "source": [
        "# APEX STATS Dataset\n",
        "Prepared by Andy Qui Le"
      ],
      "metadata": {
        "id": "EH-j63o51UuW"
      }
    },
    {
      "cell_type": "markdown",
      "source": [
        "## Source Attribution"
      ],
      "metadata": {
        "id": "MC30OoJH1rSb"
      }
    },
    {
      "cell_type": "markdown",
      "source": [
        "Author: Data Copyright © 2013 by Brett Lantz   \n",
        "Maintainer: Miri Choi    \n",
        "Title: Medical Insurance Dataset   \n",
        "Source: <a href=\"https://www.kaggle.com/mirichoi0218/insurance\">Kaggle</a>   \n",
        "License: Database Contents   \n",
        "Changes: Data have been adapted for APEX STATS by Andy Qui Le; columns have been renamed."
      ],
      "metadata": {
        "id": "kxIgiODk9PSi"
      }
    },
    {
      "cell_type": "markdown",
      "source": [
        "## Description of the Original Data"
      ],
      "metadata": {
        "id": "NAWM1wUq1t2P"
      }
    },
    {
      "cell_type": "markdown",
      "source": [
        "The data file lists information about individuals along with their medical insurance cost. The data are available on Kaggle."
      ],
      "metadata": {
        "id": "uj6PQMY2FMfL"
      }
    },
    {
      "cell_type": "markdown",
      "source": [
        "## Description of the Example"
      ],
      "metadata": {
        "id": "shjNubAU13LU"
      }
    },
    {
      "cell_type": "markdown",
      "source": [
        "Access this example using the file `example.csv`.\n",
        "\n",
        "The example file is the original data, with columns being renamed.\n",
        "\n",
        "The unit of analysis (each row) is a record about an individual and their medical insurance cost.\n",
        "\n",
        "The following variables are included:\n",
        "\n",
        "Y: charges   \n",
        "X: age   \n",
        "X1: sex   \n",
        "X2: bmi   \n",
        "X3: children  \n",
        "X4: smoker   \n",
        "X5: region  \n",
        "\n",
        "No data were missing in the original dataset. "
      ],
      "metadata": {
        "id": "uE-0IPMMCALu"
      }
    },
    {
      "cell_type": "markdown",
      "source": [
        "## Discipline(s) Represented"
      ],
      "metadata": {
        "id": "5A51BZzw1-Tv"
      }
    },
    {
      "cell_type": "markdown",
      "source": [
        ""
      ],
      "metadata": {
        "id": "IG4eWV-n2Egs"
      }
    },
    {
      "cell_type": "markdown",
      "source": [
        "## Dataset Preview"
      ],
      "metadata": {
        "id": "ng36SWSe2HOy"
      }
    },
    {
      "cell_type": "markdown",
      "source": [
        "## Exploratory Analyses"
      ],
      "metadata": {
        "id": "K_2hKqNE2PqO"
      }
    },
    {
      "cell_type": "markdown",
      "source": [
        "## Potential Activity Starters"
      ],
      "metadata": {
        "id": "EDuOpxbA2VWH"
      }
    }
  ]
}