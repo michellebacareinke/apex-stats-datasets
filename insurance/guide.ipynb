{
 "cells": [
  {
   "cell_type": "markdown",
   "metadata": {
    "id": "EH-j63o51UuW"
   },
   "source": [
    "# APEX STATS Dataset\n",
    "Prepared by Andy Qui Le"
   ]
  },
  {
   "cell_type": "markdown",
   "metadata": {
    "id": "MC30OoJH1rSb"
   },
   "source": [
    "## Source Attribution"
   ]
  },
  {
   "cell_type": "markdown",
   "metadata": {
    "id": "kxIgiODk9PSi"
   },
   "source": [
    "Author: Data Copyright © 2013 by Brett Lantz   \n",
    "Maintainer: Miri Choi    \n",
    "Title: Medical Insurance Dataset   \n",
    "Source: <a href=\"https://www.kaggle.com/mirichoi0218/insurance\">Kaggle</a>   \n",
    "License: Database Contents   \n",
    "Changes: Data have been adapted for APEX STATS by Andy Qui Le; columns have been renamed."
   ]
  },
  {
   "cell_type": "markdown",
   "metadata": {
    "id": "NAWM1wUq1t2P"
   },
   "source": [
    "## Description of the Original Data"
   ]
  },
  {
   "cell_type": "markdown",
   "metadata": {
    "id": "uj6PQMY2FMfL"
   },
   "source": [
    "The data file lists information about individuals along with their medical insurance cost. The data are available on Kaggle."
   ]
  },
  {
   "cell_type": "markdown",
   "metadata": {
    "id": "shjNubAU13LU"
   },
   "source": [
    "## Description of the Example"
   ]
  },
  {
   "cell_type": "markdown",
   "metadata": {
    "id": "uE-0IPMMCALu"
   },
   "source": [
    "Access this example using the file `example.csv`.\n",
    "\n",
    "The example file is the original data, with columns being renamed.\n",
    "\n",
    "The unit of analysis (each row) is a record about an individual and their medical insurance cost.\n",
    "\n",
    "The following variables are included:\n",
    "\n",
    "Y: charges   \n",
    "X: age   \n",
    "X1: sex   \n",
    "X2: bmi   \n",
    "X3: children  \n",
    "X4: smoker   \n",
    "X5: region  \n",
    "\n",
    "No data were missing in the original dataset. "
   ]
  },
  {
   "cell_type": "markdown",
   "metadata": {
    "id": "5A51BZzw1-Tv"
   },
   "source": [
    "## Discipline(s) Represented"
   ]
  },
  {
   "cell_type": "markdown",
   "metadata": {
    "id": "IG4eWV-n2Egs"
   },
   "source": [
    "* Business\n",
    "* Social Science\n",
    "* Health Science\n",
    "* Healthcare Policy"
   ]
  },
  {
   "cell_type": "markdown",
   "metadata": {
    "id": "ng36SWSe2HOy"
   },
   "source": [
    "## Dataset Preview"
   ]
  },
  {
   "cell_type": "code",
   "execution_count": 1,
   "metadata": {},
   "outputs": [
    {
     "data": {
      "text/html": [
       "<div>\n",
       "<style scoped>\n",
       "    .dataframe tbody tr th:only-of-type {\n",
       "        vertical-align: middle;\n",
       "    }\n",
       "\n",
       "    .dataframe tbody tr th {\n",
       "        vertical-align: top;\n",
       "    }\n",
       "\n",
       "    .dataframe thead th {\n",
       "        text-align: right;\n",
       "    }\n",
       "</style>\n",
       "<table border=\"1\" class=\"dataframe\">\n",
       "  <thead>\n",
       "    <tr style=\"text-align: right;\">\n",
       "      <th></th>\n",
       "      <th>X</th>\n",
       "      <th>X1</th>\n",
       "      <th>X2</th>\n",
       "      <th>X3</th>\n",
       "      <th>X4</th>\n",
       "      <th>X5</th>\n",
       "      <th>Y</th>\n",
       "    </tr>\n",
       "  </thead>\n",
       "  <tbody>\n",
       "    <tr>\n",
       "      <th>0</th>\n",
       "      <td>19</td>\n",
       "      <td>female</td>\n",
       "      <td>27.900</td>\n",
       "      <td>0</td>\n",
       "      <td>yes</td>\n",
       "      <td>southwest</td>\n",
       "      <td>16884.92400</td>\n",
       "    </tr>\n",
       "    <tr>\n",
       "      <th>1</th>\n",
       "      <td>18</td>\n",
       "      <td>male</td>\n",
       "      <td>33.770</td>\n",
       "      <td>1</td>\n",
       "      <td>no</td>\n",
       "      <td>southeast</td>\n",
       "      <td>1725.55230</td>\n",
       "    </tr>\n",
       "    <tr>\n",
       "      <th>2</th>\n",
       "      <td>28</td>\n",
       "      <td>male</td>\n",
       "      <td>33.000</td>\n",
       "      <td>3</td>\n",
       "      <td>no</td>\n",
       "      <td>southeast</td>\n",
       "      <td>4449.46200</td>\n",
       "    </tr>\n",
       "    <tr>\n",
       "      <th>3</th>\n",
       "      <td>33</td>\n",
       "      <td>male</td>\n",
       "      <td>22.705</td>\n",
       "      <td>0</td>\n",
       "      <td>no</td>\n",
       "      <td>northwest</td>\n",
       "      <td>21984.47061</td>\n",
       "    </tr>\n",
       "    <tr>\n",
       "      <th>4</th>\n",
       "      <td>32</td>\n",
       "      <td>male</td>\n",
       "      <td>28.880</td>\n",
       "      <td>0</td>\n",
       "      <td>no</td>\n",
       "      <td>northwest</td>\n",
       "      <td>3866.85520</td>\n",
       "    </tr>\n",
       "  </tbody>\n",
       "</table>\n",
       "</div>"
      ],
      "text/plain": [
       "    X      X1      X2  X3   X4         X5            Y\n",
       "0  19  female  27.900   0  yes  southwest  16884.92400\n",
       "1  18    male  33.770   1   no  southeast   1725.55230\n",
       "2  28    male  33.000   3   no  southeast   4449.46200\n",
       "3  33    male  22.705   0   no  northwest  21984.47061\n",
       "4  32    male  28.880   0   no  northwest   3866.85520"
      ]
     },
     "execution_count": 1,
     "metadata": {},
     "output_type": "execute_result"
    }
   ],
   "source": [
    "#@title Preview Code\n",
    "import pandas as pd\n",
    "data = pd.read_csv(\"https://raw.githubusercontent.com/vectrlab/apex-python-datasets/main/insurance/example.csv\")\n",
    "data.head(5)"
   ]
  },
  {
   "cell_type": "markdown",
   "metadata": {
    "id": "K_2hKqNE2PqO"
   },
   "source": [
    "## Exploratory Analyses"
   ]
  },
  {
   "cell_type": "markdown",
   "metadata": {
    "id": "EDuOpxbA2VWH"
   },
   "source": [
    "## Potential Activity Starters"
   ]
  }
 ],
 "metadata": {
  "colab": {
   "name": "insurance-data-guide",
   "private_outputs": true,
   "provenance": [],
   "toc_visible": true
  },
  "kernelspec": {
   "display_name": "Python 3",
   "language": "python",
   "name": "python3"
  },
  "language_info": {
   "codemirror_mode": {
    "name": "ipython",
    "version": 3
   },
   "file_extension": ".py",
   "mimetype": "text/x-python",
   "name": "python",
   "nbconvert_exporter": "python",
   "pygments_lexer": "ipython3",
   "version": "3.8.5"
  }
 },
 "nbformat": 4,
 "nbformat_minor": 1
}
