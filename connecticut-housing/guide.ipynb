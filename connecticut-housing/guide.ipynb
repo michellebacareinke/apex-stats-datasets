{
 "cells": [
  {
   "cell_type": "markdown",
   "metadata": {
    "id": "y3iBb6fhA6FG"
   },
   "source": [
    "# APEX STATS Dataset \n",
    "\n",
    "\n",
    "Prepared by Andy Qui Le"
   ]
  },
  {
   "cell_type": "markdown",
   "metadata": {
    "id": "5dICcnHHYf8q"
   },
   "source": [
    "## Source Attribution"
   ]
  },
  {
   "cell_type": "markdown",
   "metadata": {
    "id": "E9eQPj2jv4w5"
   },
   "source": [
    "Author: Data Copyright &copy; 2021 by Data.ct.gov, All Rights Reserved\n",
    "\n",
    "Title: Monthly Sale Price of Single Family Homes in Connecticut\n",
    "\n",
    "Source: <a href=\"https://catalog.data.gov/dataset/monthly-sale-price-of-single-family-homes-in-ct\">Data.gov Data Catalog</a>\n",
    "\n",
    "License: Public Domain\n",
    "\n",
    "Changes: Data have been adapted for APEX STATS by Andy Qui Le"
   ]
  },
  {
   "cell_type": "markdown",
   "metadata": {
    "id": "sqa8B4WYYjJx"
   },
   "source": [
    "## Description of the Original Data"
   ]
  },
  {
   "cell_type": "markdown",
   "metadata": {
    "id": "kkXbJ5Dr3GwR"
   },
   "source": [
    "Data.ct.gov collected median and average sale prices of single homes from counties in Connecticut. The data are reported from Data.gov source. These data display the varied sale prices from month to month in the state of Connecticut."
   ]
  },
  {
   "cell_type": "markdown",
   "metadata": {
    "id": "IRstPwgiipXE"
   },
   "source": [
    "## Description of the Example"
   ]
  },
  {
   "cell_type": "markdown",
   "metadata": {
    "id": "8C-xE6Ykonn3"
   },
   "source": [
    "Access this example using the file `example.csv`.\n",
    "\n",
    "The example file is a subset of the original data. Only county, median sale price, and average sale price are included.\n",
    "\n",
    "The unit of analysis (each row) is a county.\n",
    "\n",
    "The following variables are included:\n",
    "\n",
    "Y: the name of the county    \n",
    "X: the median sale price   \n",
    "X1: the average sale price\n",
    "\n",
    "The secondary file, `example2.csv`, provides similar data with the addition of date when each unit is recorded. In this file, data for date is of datetime object, different from its original data. "
   ]
  },
  {
   "cell_type": "markdown",
   "metadata": {
    "id": "4haPx2rNis7N"
   },
   "source": [
    "## Discipline(s) Represented\n",
    "\n",
    "\n",
    "\n",
    "* Business\n",
    "* Economics\n",
    "* Social Science\n",
    "* Political Science\n",
    "\n"
   ]
  },
  {
   "cell_type": "markdown",
   "metadata": {},
   "source": [
    "## Dataset Preview"
   ]
  },
  {
   "cell_type": "code",
   "execution_count": 1,
   "metadata": {},
   "outputs": [
    {
     "data": {
      "text/html": [
       "<div>\n",
       "<style scoped>\n",
       "    .dataframe tbody tr th:only-of-type {\n",
       "        vertical-align: middle;\n",
       "    }\n",
       "\n",
       "    .dataframe tbody tr th {\n",
       "        vertical-align: top;\n",
       "    }\n",
       "\n",
       "    .dataframe thead th {\n",
       "        text-align: right;\n",
       "    }\n",
       "</style>\n",
       "<table border=\"1\" class=\"dataframe\">\n",
       "  <thead>\n",
       "    <tr style=\"text-align: right;\">\n",
       "      <th></th>\n",
       "      <th>Y</th>\n",
       "      <th>X</th>\n",
       "      <th>X1</th>\n",
       "    </tr>\n",
       "  </thead>\n",
       "  <tbody>\n",
       "    <tr>\n",
       "      <th>0</th>\n",
       "      <td>Fairfield</td>\n",
       "      <td>369587.11</td>\n",
       "      <td>607031.57</td>\n",
       "    </tr>\n",
       "    <tr>\n",
       "      <th>1</th>\n",
       "      <td>Fairfield</td>\n",
       "      <td>351716.13</td>\n",
       "      <td>612695.88</td>\n",
       "    </tr>\n",
       "    <tr>\n",
       "      <th>2</th>\n",
       "      <td>Fairfield</td>\n",
       "      <td>375670.85</td>\n",
       "      <td>581427.50</td>\n",
       "    </tr>\n",
       "    <tr>\n",
       "      <th>3</th>\n",
       "      <td>Fairfield</td>\n",
       "      <td>372628.98</td>\n",
       "      <td>579640.90</td>\n",
       "    </tr>\n",
       "    <tr>\n",
       "      <th>4</th>\n",
       "      <td>Fairfield</td>\n",
       "      <td>401488.72</td>\n",
       "      <td>576070.59</td>\n",
       "    </tr>\n",
       "  </tbody>\n",
       "</table>\n",
       "</div>"
      ],
      "text/plain": [
       "           Y          X         X1\n",
       "0  Fairfield  369587.11  607031.57\n",
       "1  Fairfield  351716.13  612695.88\n",
       "2  Fairfield  375670.85  581427.50\n",
       "3  Fairfield  372628.98  579640.90\n",
       "4  Fairfield  401488.72  576070.59"
      ]
     },
     "execution_count": 1,
     "metadata": {},
     "output_type": "execute_result"
    }
   ],
   "source": [
    "#@title Preview Code\n",
    "import pandas as pd\n",
    "data = pd.read_csv(\"https://raw.githubusercontent.com/vectrlab/apex-python-datasets/main/connecticut-housing/example.csv\")\n",
    "data.head(5)"
   ]
  },
  {
   "cell_type": "markdown",
   "metadata": {
    "id": "qU4ez32Eix7C"
   },
   "source": [
    "## Exploratory Analyses (untested)"
   ]
  },
  {
   "cell_type": "markdown",
   "metadata": {},
   "source": [
    "* Bivariate relationship between median sale price and average sale price"
   ]
  },
  {
   "cell_type": "markdown",
   "metadata": {
    "id": "-Ykp4IU9l6y6"
   },
   "source": [
    "## Potential Activity Starter"
   ]
  },
  {
   "cell_type": "markdown",
   "metadata": {
    "id": "XM4lS5W_l9np"
   },
   "source": [
    "* Variability in sale prices; Quantify and interpret variability in sale prices and discuss its implication"
   ]
  }
 ],
 "metadata": {
  "colab": {
   "name": "housing-dataset-guide.ipynb",
   "private_outputs": true,
   "provenance": [],
   "toc_visible": true
  },
  "kernelspec": {
   "display_name": "Python 3",
   "language": "python",
   "name": "python3"
  },
  "language_info": {
   "codemirror_mode": {
    "name": "ipython",
    "version": 3
   },
   "file_extension": ".py",
   "mimetype": "text/x-python",
   "name": "python",
   "nbconvert_exporter": "python",
   "pygments_lexer": "ipython3",
   "version": "3.8.5"
  }
 },
 "nbformat": 4,
 "nbformat_minor": 1
}
