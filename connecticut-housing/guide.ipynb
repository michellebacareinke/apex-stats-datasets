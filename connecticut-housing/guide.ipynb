{
  "cells": [
    {
      "cell_type": "markdown",
      "metadata": {
        "id": "view-in-github",
        "colab_type": "text"
      },
      "source": [
        "<a href=\"https://colab.research.google.com/github/vectrlab/apex-stats-datasets/blob/main/connecticut-housing/guide.ipynb\" target=\"_parent\"><img src=\"https://colab.research.google.com/assets/colab-badge.svg\" alt=\"Open In Colab\"/></a>"
      ]
    },
    {
      "cell_type": "markdown",
      "metadata": {
        "id": "y3iBb6fhA6FG"
      },
      "source": [
        "# APEX STATS Dataset \n",
        "\n",
        "\n",
        "Prepared by Andy Qui Le\n",
        "\n",
        "Additions by David Schuster"
      ]
    },
    {
      "cell_type": "markdown",
      "metadata": {
        "id": "5dICcnHHYf8q"
      },
      "source": [
        "## Source Attribution"
      ]
    },
    {
      "cell_type": "markdown",
      "metadata": {
        "id": "E9eQPj2jv4w5"
      },
      "source": [
        "Author: Data Copyright &copy; 2021 by Data.ct.gov, All Rights Reserved\n",
        "\n",
        "Title: Monthly Sale Price of Single Family Homes in Connecticut\n",
        "\n",
        "Source: <a href=\"https://catalog.data.gov/dataset/monthly-sale-price-of-single-family-homes-in-ct\">Data.gov Data Catalog</a>\n",
        "\n",
        "License: Public Domain\n",
        "\n",
        "Changes: Data have been adapted for APEX STATS by Andy Qui Le"
      ]
    },
    {
      "cell_type": "markdown",
      "metadata": {
        "id": "sqa8B4WYYjJx"
      },
      "source": [
        "## Description of the Original Data"
      ]
    },
    {
      "cell_type": "markdown",
      "metadata": {
        "id": "kkXbJ5Dr3GwR"
      },
      "source": [
        "Data.ct.gov collected median and average sale prices of single homes from counties in Connecticut. The data are reported from Data.gov source. These data display the varied sale prices from month to month in the state of Connecticut."
      ]
    },
    {
      "cell_type": "markdown",
      "metadata": {
        "id": "IRstPwgiipXE"
      },
      "source": [
        "## Description of the Example"
      ]
    },
    {
      "cell_type": "markdown",
      "metadata": {
        "id": "8C-xE6Ykonn3"
      },
      "source": [
        "Access this example using the file `example.csv`.\n",
        "\n",
        "The example file is a subset of the original data. Only county, median sale price, and average sale price are included.\n",
        "\n",
        "The unit of analysis (each row) is a county.\n",
        "\n",
        "The following variables are included:\n",
        "\n",
        "y: the name of the county    \n",
        "x: the median sale price   \n",
        "x1: the average sale price \n",
        " \n",
        "x2: date measured\n",
        "\n",
        "The secondary file, `example2.csv`, provides similar data with the addition of date when each unit is recorded. In this file, data for date is of datetime object, different from its original data. "
      ]
    },
    {
      "cell_type": "markdown",
      "metadata": {
        "id": "4haPx2rNis7N"
      },
      "source": [
        "## Discipline(s) Represented\n",
        "\n",
        "\n",
        "\n",
        "* Business\n",
        "* Economics\n",
        "* Social Science\n",
        "* Political Science\n",
        "\n"
      ]
    },
    {
      "cell_type": "markdown",
      "metadata": {
        "id": "EkONipJ6P8be"
      },
      "source": [
        "## Dataset Preview"
      ]
    },
    {
      "cell_type": "code",
      "execution_count": 1,
      "metadata": {
        "id": "lGN_Ha07P8be",
        "colab": {
          "base_uri": "https://localhost:8080/",
          "height": 204
        },
        "outputId": "2326378f-9d72-49f3-b4f6-304f8656a5e5"
      },
      "outputs": [
        {
          "output_type": "execute_result",
          "data": {
            "text/plain": [
              "           y          x         x1      x2\n",
              "0  Fairfield  369587.11  607031.57  1/1/01\n",
              "1  Fairfield  351716.13  612695.88  2/1/01\n",
              "2  Fairfield  375670.85  581427.50  3/1/01\n",
              "3  Fairfield  372628.98  579640.90  4/1/01\n",
              "4  Fairfield  401488.72  576070.59  5/1/01"
            ],
            "text/html": [
              "\n",
              "  <div id=\"df-247fe84a-1312-440f-95fc-f31306a83e0b\">\n",
              "    <div class=\"colab-df-container\">\n",
              "      <div>\n",
              "<style scoped>\n",
              "    .dataframe tbody tr th:only-of-type {\n",
              "        vertical-align: middle;\n",
              "    }\n",
              "\n",
              "    .dataframe tbody tr th {\n",
              "        vertical-align: top;\n",
              "    }\n",
              "\n",
              "    .dataframe thead th {\n",
              "        text-align: right;\n",
              "    }\n",
              "</style>\n",
              "<table border=\"1\" class=\"dataframe\">\n",
              "  <thead>\n",
              "    <tr style=\"text-align: right;\">\n",
              "      <th></th>\n",
              "      <th>y</th>\n",
              "      <th>x</th>\n",
              "      <th>x1</th>\n",
              "      <th>x2</th>\n",
              "    </tr>\n",
              "  </thead>\n",
              "  <tbody>\n",
              "    <tr>\n",
              "      <th>0</th>\n",
              "      <td>Fairfield</td>\n",
              "      <td>369587.11</td>\n",
              "      <td>607031.57</td>\n",
              "      <td>1/1/01</td>\n",
              "    </tr>\n",
              "    <tr>\n",
              "      <th>1</th>\n",
              "      <td>Fairfield</td>\n",
              "      <td>351716.13</td>\n",
              "      <td>612695.88</td>\n",
              "      <td>2/1/01</td>\n",
              "    </tr>\n",
              "    <tr>\n",
              "      <th>2</th>\n",
              "      <td>Fairfield</td>\n",
              "      <td>375670.85</td>\n",
              "      <td>581427.50</td>\n",
              "      <td>3/1/01</td>\n",
              "    </tr>\n",
              "    <tr>\n",
              "      <th>3</th>\n",
              "      <td>Fairfield</td>\n",
              "      <td>372628.98</td>\n",
              "      <td>579640.90</td>\n",
              "      <td>4/1/01</td>\n",
              "    </tr>\n",
              "    <tr>\n",
              "      <th>4</th>\n",
              "      <td>Fairfield</td>\n",
              "      <td>401488.72</td>\n",
              "      <td>576070.59</td>\n",
              "      <td>5/1/01</td>\n",
              "    </tr>\n",
              "  </tbody>\n",
              "</table>\n",
              "</div>\n",
              "      <button class=\"colab-df-convert\" onclick=\"convertToInteractive('df-247fe84a-1312-440f-95fc-f31306a83e0b')\"\n",
              "              title=\"Convert this dataframe to an interactive table.\"\n",
              "              style=\"display:none;\">\n",
              "        \n",
              "  <svg xmlns=\"http://www.w3.org/2000/svg\" height=\"24px\"viewBox=\"0 0 24 24\"\n",
              "       width=\"24px\">\n",
              "    <path d=\"M0 0h24v24H0V0z\" fill=\"none\"/>\n",
              "    <path d=\"M18.56 5.44l.94 2.06.94-2.06 2.06-.94-2.06-.94-.94-2.06-.94 2.06-2.06.94zm-11 1L8.5 8.5l.94-2.06 2.06-.94-2.06-.94L8.5 2.5l-.94 2.06-2.06.94zm10 10l.94 2.06.94-2.06 2.06-.94-2.06-.94-.94-2.06-.94 2.06-2.06.94z\"/><path d=\"M17.41 7.96l-1.37-1.37c-.4-.4-.92-.59-1.43-.59-.52 0-1.04.2-1.43.59L10.3 9.45l-7.72 7.72c-.78.78-.78 2.05 0 2.83L4 21.41c.39.39.9.59 1.41.59.51 0 1.02-.2 1.41-.59l7.78-7.78 2.81-2.81c.8-.78.8-2.07 0-2.86zM5.41 20L4 18.59l7.72-7.72 1.47 1.35L5.41 20z\"/>\n",
              "  </svg>\n",
              "      </button>\n",
              "      \n",
              "  <style>\n",
              "    .colab-df-container {\n",
              "      display:flex;\n",
              "      flex-wrap:wrap;\n",
              "      gap: 12px;\n",
              "    }\n",
              "\n",
              "    .colab-df-convert {\n",
              "      background-color: #E8F0FE;\n",
              "      border: none;\n",
              "      border-radius: 50%;\n",
              "      cursor: pointer;\n",
              "      display: none;\n",
              "      fill: #1967D2;\n",
              "      height: 32px;\n",
              "      padding: 0 0 0 0;\n",
              "      width: 32px;\n",
              "    }\n",
              "\n",
              "    .colab-df-convert:hover {\n",
              "      background-color: #E2EBFA;\n",
              "      box-shadow: 0px 1px 2px rgba(60, 64, 67, 0.3), 0px 1px 3px 1px rgba(60, 64, 67, 0.15);\n",
              "      fill: #174EA6;\n",
              "    }\n",
              "\n",
              "    [theme=dark] .colab-df-convert {\n",
              "      background-color: #3B4455;\n",
              "      fill: #D2E3FC;\n",
              "    }\n",
              "\n",
              "    [theme=dark] .colab-df-convert:hover {\n",
              "      background-color: #434B5C;\n",
              "      box-shadow: 0px 1px 3px 1px rgba(0, 0, 0, 0.15);\n",
              "      filter: drop-shadow(0px 1px 2px rgba(0, 0, 0, 0.3));\n",
              "      fill: #FFFFFF;\n",
              "    }\n",
              "  </style>\n",
              "\n",
              "      <script>\n",
              "        const buttonEl =\n",
              "          document.querySelector('#df-247fe84a-1312-440f-95fc-f31306a83e0b button.colab-df-convert');\n",
              "        buttonEl.style.display =\n",
              "          google.colab.kernel.accessAllowed ? 'block' : 'none';\n",
              "\n",
              "        async function convertToInteractive(key) {\n",
              "          const element = document.querySelector('#df-247fe84a-1312-440f-95fc-f31306a83e0b');\n",
              "          const dataTable =\n",
              "            await google.colab.kernel.invokeFunction('convertToInteractive',\n",
              "                                                     [key], {});\n",
              "          if (!dataTable) return;\n",
              "\n",
              "          const docLinkHtml = 'Like what you see? Visit the ' +\n",
              "            '<a target=\"_blank\" href=https://colab.research.google.com/notebooks/data_table.ipynb>data table notebook</a>'\n",
              "            + ' to learn more about interactive tables.';\n",
              "          element.innerHTML = '';\n",
              "          dataTable['output_type'] = 'display_data';\n",
              "          await google.colab.output.renderOutput(dataTable, element);\n",
              "          const docLink = document.createElement('div');\n",
              "          docLink.innerHTML = docLinkHtml;\n",
              "          element.appendChild(docLink);\n",
              "        }\n",
              "      </script>\n",
              "    </div>\n",
              "  </div>\n",
              "  "
            ]
          },
          "metadata": {},
          "execution_count": 1
        }
      ],
      "source": [
        "#@title Preview Code\n",
        "import pandas as pd\n",
        "data = pd.read_csv(\"https://raw.githubusercontent.com/vectrlab/apex-stats-datasets/main/connecticut-housing/example.csv\")\n",
        "data.head(5)"
      ]
    },
    {
      "cell_type": "markdown",
      "metadata": {
        "id": "qU4ez32Eix7C"
      },
      "source": [
        "## Exploratory Analyses (untested)"
      ]
    },
    {
      "cell_type": "markdown",
      "metadata": {
        "id": "44vz7GU9P8bf"
      },
      "source": [
        "* Explore bivariate relationship between median sale price and average sale price"
      ]
    },
    {
      "cell_type": "markdown",
      "metadata": {
        "id": "-Ykp4IU9l6y6"
      },
      "source": [
        "## Potential Activity Starter"
      ]
    },
    {
      "cell_type": "markdown",
      "metadata": {
        "id": "XM4lS5W_l9np"
      },
      "source": [
        "* Investigate variability in sale prices\n",
        "* Quantify and interpret variability in sale prices and discuss its implication"
      ]
    }
  ],
  "metadata": {
    "colab": {
      "provenance": [],
      "toc_visible": true,
      "include_colab_link": true
    },
    "kernelspec": {
      "display_name": "Python 3",
      "language": "python",
      "name": "python3"
    },
    "language_info": {
      "codemirror_mode": {
        "name": "ipython",
        "version": 3
      },
      "file_extension": ".py",
      "mimetype": "text/x-python",
      "name": "python",
      "nbconvert_exporter": "python",
      "pygments_lexer": "ipython3",
      "version": "3.8.5"
    },
    "gpuClass": "standard"
  },
  "nbformat": 4,
  "nbformat_minor": 0
}