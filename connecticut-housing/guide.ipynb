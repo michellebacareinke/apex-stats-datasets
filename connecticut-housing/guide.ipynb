{
  "cells": [
    {
      "cell_type": "markdown",
      "metadata": {
        "id": "y3iBb6fhA6FG"
      },
      "source": [
        "# APEX STATS Dataset \n",
        "\n",
        "\n",
        "Prepared by Andy Qui Le\n",
        "\n",
        "Additions by David Schuster"
      ]
    },
    {
      "cell_type": "markdown",
      "metadata": {
        "id": "5dICcnHHYf8q"
      },
      "source": [
        "## Source Attribution"
      ]
    },
    {
      "cell_type": "markdown",
      "metadata": {
        "id": "E9eQPj2jv4w5"
      },
      "source": [
        "Author: Data Copyright &copy; 2021 by Data.ct.gov, All Rights Reserved\n",
        "\n",
        "Title: Monthly Sale Price of Single Family Homes in Connecticut\n",
        "\n",
        "Source: <a href=\"https://catalog.data.gov/dataset/monthly-sale-price-of-single-family-homes-in-ct\">Data.gov Data Catalog</a>\n",
        "\n",
        "License: Public Domain\n",
        "\n",
        "Changes: Data have been adapted for APEX STATS by Andy Qui Le"
      ]
    },
    {
      "cell_type": "markdown",
      "metadata": {
        "id": "sqa8B4WYYjJx"
      },
      "source": [
        "## Description of the Original Data"
      ]
    },
    {
      "cell_type": "markdown",
      "metadata": {
        "id": "kkXbJ5Dr3GwR"
      },
      "source": [
        "Data.ct.gov collected median and average sale prices of single homes from counties in Connecticut. The data are reported from Data.gov source. These data display the varied sale prices from month to month in the state of Connecticut."
      ]
    },
    {
      "cell_type": "markdown",
      "metadata": {
        "id": "IRstPwgiipXE"
      },
      "source": [
        "## Description of the Example"
      ]
    },
    {
      "cell_type": "markdown",
      "metadata": {
        "id": "8C-xE6Ykonn3"
      },
      "source": [
        "Access this example using the file `example.csv`.\n",
        "\n",
        "The example file is a subset of the original data. Only county, median sale price, and average sale price are included.\n",
        "\n",
        "The unit of analysis (each row) is a county.\n",
        "\n",
        "The following variables are included:\n",
        "\n",
        "y: the name of the county    \n",
        "x: the median sale price   \n",
        "x1: the average sale price \n",
        " \n",
        "x2: date measured\n",
        "\n",
        "The secondary file, `example2.csv`, provides similar data with the addition of date when each unit is recorded. In this file, data for date is of datetime object, different from its original data. "
      ]
    },
    {
      "cell_type": "markdown",
      "metadata": {
        "id": "4haPx2rNis7N"
      },
      "source": [
        "## Discipline(s) Represented\n",
        "\n",
        "\n",
        "\n",
        "* Business\n",
        "* Economics\n",
        "* Social Science\n",
        "* Political Science\n",
        "\n"
      ]
    },
    {
      "cell_type": "markdown",
      "metadata": {
        "id": "EkONipJ6P8be"
      },
      "source": [
        "## Dataset Preview"
      ]
    },
    {
      "cell_type": "code",
      "execution_count": null,
      "metadata": {
        "id": "lGN_Ha07P8be"
      },
      "outputs": [],
      "source": [
        "#@title Preview Code\n",
        "import pandas as pd\n",
        "data = pd.read_csv(\"https://raw.githubusercontent.com/vectrlab/apex-stats-datasets/main/connecticut-housing/example.csv\")\n",
        "data.head(5)"
      ]
    },
    {
      "cell_type": "markdown",
      "metadata": {
        "id": "qU4ez32Eix7C"
      },
      "source": [
        "## Exploratory Analyses (untested)"
      ]
    },
    {
      "cell_type": "markdown",
      "metadata": {
        "id": "44vz7GU9P8bf"
      },
      "source": [
        "* Explore bivariate relationship between median sale price and average sale price"
      ]
    },
    {
      "cell_type": "markdown",
      "metadata": {
        "id": "-Ykp4IU9l6y6"
      },
      "source": [
        "## Potential Activity Starter"
      ]
    },
    {
      "cell_type": "markdown",
      "metadata": {
        "id": "XM4lS5W_l9np"
      },
      "source": [
        "* Investigate variability in sale prices\n",
        "* Quantify and interpret variability in sale prices and discuss its implication"
      ]
    }
  ],
  "metadata": {
    "colab": {
      "name": "housing-dataset-guide.ipynb",
      "private_outputs": true,
      "provenance": [],
      "toc_visible": true
    },
    "kernelspec": {
      "display_name": "Python 3",
      "language": "python",
      "name": "python3"
    },
    "language_info": {
      "codemirror_mode": {
        "name": "ipython",
        "version": 3
      },
      "file_extension": ".py",
      "mimetype": "text/x-python",
      "name": "python",
      "nbconvert_exporter": "python",
      "pygments_lexer": "ipython3",
      "version": "3.8.5"
    }
  },
  "nbformat": 4,
  "nbformat_minor": 0
}