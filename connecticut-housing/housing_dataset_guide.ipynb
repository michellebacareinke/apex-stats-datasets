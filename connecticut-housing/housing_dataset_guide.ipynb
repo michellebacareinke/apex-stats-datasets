{
  "nbformat": 4,
  "nbformat_minor": 0,
  "metadata": {
    "colab": {
      "name": "housing-dataset-guide.ipynb",
      "private_outputs": true,
      "provenance": [],
      "toc_visible": true
    },
    "kernelspec": {
      "name": "python3",
      "display_name": "Python 3"
    },
    "language_info": {
      "name": "python"
    }
  },
  "cells": [
    {
      "cell_type": "markdown",
      "metadata": {
        "id": "y3iBb6fhA6FG"
      },
      "source": [
        "# APEX STATS Dataset \n",
        "\n",
        "\n",
        "Prepared by Andy Qui Le"
      ]
    },
    {
      "cell_type": "markdown",
      "source": [
        "## Source Attribution"
      ],
      "metadata": {
        "id": "5dICcnHHYf8q"
      }
    },
    {
      "cell_type": "markdown",
      "source": [
        "Author: Data Copyright &copy; 2021 by Data.ct.gov, All Rights Reserved\n",
        "\n",
        "Title: Monthly Sale Price of Single Family Homes in Connecticut\n",
        "\n",
        "Source: <a href=\"https://catalog.data.gov/dataset/monthly-sale-price-of-single-family-homes-in-ct\">Data.gov Data Catalog</a>\n",
        "\n",
        "License: No license information was provided\n",
        "\n",
        "Changes: Data have been adapted for APEX STATS by Andy Qui Le"
      ],
      "metadata": {
        "id": "E9eQPj2jv4w5"
      }
    },
    {
      "cell_type": "markdown",
      "source": [
        "## Description of the Original Data"
      ],
      "metadata": {
        "id": "sqa8B4WYYjJx"
      }
    },
    {
      "cell_type": "markdown",
      "source": [
        "## Description of the Example"
      ],
      "metadata": {
        "id": "IRstPwgiipXE"
      }
    },
    {
      "cell_type": "markdown",
      "source": [
        "## Discipline(s) Represented\n",
        "\n",
        "\n",
        "\n",
        "* Business\n",
        "* Economics\n",
        "* Social Science\n",
        "* Political Science\n",
        "\n"
      ],
      "metadata": {
        "id": "4haPx2rNis7N"
      }
    },
    {
      "cell_type": "markdown",
      "source": [
        "## Exploratoray Analyses (untested)"
      ],
      "metadata": {
        "id": "qU4ez32Eix7C"
      }
    }
  ]
}