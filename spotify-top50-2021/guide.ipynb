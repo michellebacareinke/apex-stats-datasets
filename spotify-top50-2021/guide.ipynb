{
  "cells": [
    {
      "cell_type": "markdown",
      "metadata": {
        "id": "NTIuNTwD-omY"
      },
      "source": [
        "# APEX STATS Dataset\n",
        "Prepared by Andy Qui Le"
      ]
    },
    {
      "cell_type": "markdown",
      "metadata": {
        "id": "Z_B3g6Ve-5LF"
      },
      "source": [
        "## Source Attribution\n",
        "\n",
        "\n"
      ]
    },
    {
      "cell_type": "markdown",
      "metadata": {
        "id": "lFkGO97GfxZR"
      },
      "source": [
        "Author: Data Copyright © 2022 Hanna Yukhymenko\n",
        "\n",
        "Title: Spotify Top 50 songs in 2021\n",
        "\n",
        "Source: <a href=\"https://www.kaggle.com/datasets/equinxx/spotify-top-50-songs-in-2021?select=spotify_top50_2021.csv\">Kaggle</a>\n",
        "\n",
        "License: CC0 Public Domain\n",
        "\n",
        "Changes: Data have been adapted for APEX STATS by Andy Qui Le; columns have been renamed and/or removed\n",
        "\n"
      ]
    },
    {
      "cell_type": "markdown",
      "metadata": {
        "id": "6CJVS-pa-8Gm"
      },
      "source": [
        "## Description of the Original Data"
      ]
    },
    {
      "cell_type": "markdown",
      "metadata": {
        "id": "RmhMDIMlhKAl"
      },
      "source": [
        "Author collected quantitative information regarding each musical track. The data are available on Kaggle."
      ]
    },
    {
      "cell_type": "markdown",
      "metadata": {
        "id": "Q_9BG3Cx_FuK"
      },
      "source": [
        "## Description of the Example"
      ]
    },
    {
      "cell_type": "markdown",
      "metadata": {
        "id": "va4SDSZ5joZC"
      },
      "source": [
        "Access this example using the file `example.csv`.\n",
        "\n",
        "The example file is created using the original data, with columns being renamed and, in some cases, being removed.\n",
        "\n",
        "The unit of analysis (each row) is a musical track with its informative attributes.\n",
        "\n",
        "The following variables are included:\n",
        "\n",
        "y: popularity  \n",
        "x: danceability  \n",
        "x1: energy  \n",
        "x2: loudness    \n",
        "x3: speechiness  \n",
        "x4: acousticness  \n",
        "x5: liveness  \n",
        "x6: valence  \n",
        "x7: tempo  \n",
        "x8: duration_ms  \n",
        "x9: artist_name  \n",
        "x10: track_name  \n",
        "\n",
        "No data were missing in the original dataset."
      ]
    },
    {
      "cell_type": "markdown",
      "metadata": {
        "id": "vagKhTD-_K6f"
      },
      "source": [
        "## Discipline(s) Represented\n",
        "\n",
        "* Business\n",
        "* Information technology\n",
        "* Music industry"
      ]
    },
    {
      "cell_type": "markdown",
      "metadata": {
        "id": "pmn-KNo4nkfI"
      },
      "source": [
        "## Dataset Preview\n"
      ]
    },
    {
      "cell_type": "code",
      "execution_count": 1,
      "metadata": {
        "id": "JX46yRSRnnOS",
        "colab": {
          "base_uri": "https://localhost:8080/",
          "height": 248
        },
        "outputId": "4a791d32-c203-462d-e71a-1f845e9944bb"
      },
      "outputs": [
        {
          "output_type": "execute_result",
          "data": {
            "text/plain": [
              "    y      x     x1     x2      x3       x4      x5     x6       x7      x8  \\\n",
              "0  92  0.561  0.431 -8.810  0.0578  0.76800  0.1060  0.137  143.875  242013   \n",
              "1  90  0.593  0.503 -6.725  0.2200  0.29300  0.4050  0.710  178.781  137704   \n",
              "2  92  0.591  0.764 -5.484  0.0483  0.03830  0.1030  0.478  169.928  141806   \n",
              "3  95  0.563  0.664 -5.044  0.1540  0.33500  0.0849  0.688  166.928  178147   \n",
              "4  89  0.702  0.825 -3.787  0.0601  0.00883  0.0674  0.915  102.977  203064   \n",
              "\n",
              "               x9                             x10  \n",
              "0  Olivia Rodrigo                 drivers license  \n",
              "1       Lil Nas X  MONTERO (Call Me By Your Name)  \n",
              "2   The Kid LAROI       STAY (with Justin Bieber)  \n",
              "3  Olivia Rodrigo                        good 4 u  \n",
              "4        Dua Lipa       Levitating (feat. DaBaby)  "
            ],
            "text/html": [
              "\n",
              "\n",
              "  <div id=\"df-90f66046-8b4f-4a2f-ac0f-c4a3031b960d\">\n",
              "    <div class=\"colab-df-container\">\n",
              "      <div>\n",
              "<style scoped>\n",
              "    .dataframe tbody tr th:only-of-type {\n",
              "        vertical-align: middle;\n",
              "    }\n",
              "\n",
              "    .dataframe tbody tr th {\n",
              "        vertical-align: top;\n",
              "    }\n",
              "\n",
              "    .dataframe thead th {\n",
              "        text-align: right;\n",
              "    }\n",
              "</style>\n",
              "<table border=\"1\" class=\"dataframe\">\n",
              "  <thead>\n",
              "    <tr style=\"text-align: right;\">\n",
              "      <th></th>\n",
              "      <th>y</th>\n",
              "      <th>x</th>\n",
              "      <th>x1</th>\n",
              "      <th>x2</th>\n",
              "      <th>x3</th>\n",
              "      <th>x4</th>\n",
              "      <th>x5</th>\n",
              "      <th>x6</th>\n",
              "      <th>x7</th>\n",
              "      <th>x8</th>\n",
              "      <th>x9</th>\n",
              "      <th>x10</th>\n",
              "    </tr>\n",
              "  </thead>\n",
              "  <tbody>\n",
              "    <tr>\n",
              "      <th>0</th>\n",
              "      <td>92</td>\n",
              "      <td>0.561</td>\n",
              "      <td>0.431</td>\n",
              "      <td>-8.810</td>\n",
              "      <td>0.0578</td>\n",
              "      <td>0.76800</td>\n",
              "      <td>0.1060</td>\n",
              "      <td>0.137</td>\n",
              "      <td>143.875</td>\n",
              "      <td>242013</td>\n",
              "      <td>Olivia Rodrigo</td>\n",
              "      <td>drivers license</td>\n",
              "    </tr>\n",
              "    <tr>\n",
              "      <th>1</th>\n",
              "      <td>90</td>\n",
              "      <td>0.593</td>\n",
              "      <td>0.503</td>\n",
              "      <td>-6.725</td>\n",
              "      <td>0.2200</td>\n",
              "      <td>0.29300</td>\n",
              "      <td>0.4050</td>\n",
              "      <td>0.710</td>\n",
              "      <td>178.781</td>\n",
              "      <td>137704</td>\n",
              "      <td>Lil Nas X</td>\n",
              "      <td>MONTERO (Call Me By Your Name)</td>\n",
              "    </tr>\n",
              "    <tr>\n",
              "      <th>2</th>\n",
              "      <td>92</td>\n",
              "      <td>0.591</td>\n",
              "      <td>0.764</td>\n",
              "      <td>-5.484</td>\n",
              "      <td>0.0483</td>\n",
              "      <td>0.03830</td>\n",
              "      <td>0.1030</td>\n",
              "      <td>0.478</td>\n",
              "      <td>169.928</td>\n",
              "      <td>141806</td>\n",
              "      <td>The Kid LAROI</td>\n",
              "      <td>STAY (with Justin Bieber)</td>\n",
              "    </tr>\n",
              "    <tr>\n",
              "      <th>3</th>\n",
              "      <td>95</td>\n",
              "      <td>0.563</td>\n",
              "      <td>0.664</td>\n",
              "      <td>-5.044</td>\n",
              "      <td>0.1540</td>\n",
              "      <td>0.33500</td>\n",
              "      <td>0.0849</td>\n",
              "      <td>0.688</td>\n",
              "      <td>166.928</td>\n",
              "      <td>178147</td>\n",
              "      <td>Olivia Rodrigo</td>\n",
              "      <td>good 4 u</td>\n",
              "    </tr>\n",
              "    <tr>\n",
              "      <th>4</th>\n",
              "      <td>89</td>\n",
              "      <td>0.702</td>\n",
              "      <td>0.825</td>\n",
              "      <td>-3.787</td>\n",
              "      <td>0.0601</td>\n",
              "      <td>0.00883</td>\n",
              "      <td>0.0674</td>\n",
              "      <td>0.915</td>\n",
              "      <td>102.977</td>\n",
              "      <td>203064</td>\n",
              "      <td>Dua Lipa</td>\n",
              "      <td>Levitating (feat. DaBaby)</td>\n",
              "    </tr>\n",
              "  </tbody>\n",
              "</table>\n",
              "</div>\n",
              "      <button class=\"colab-df-convert\" onclick=\"convertToInteractive('df-90f66046-8b4f-4a2f-ac0f-c4a3031b960d')\"\n",
              "              title=\"Convert this dataframe to an interactive table.\"\n",
              "              style=\"display:none;\">\n",
              "\n",
              "  <svg xmlns=\"http://www.w3.org/2000/svg\" height=\"24px\"viewBox=\"0 0 24 24\"\n",
              "       width=\"24px\">\n",
              "    <path d=\"M0 0h24v24H0V0z\" fill=\"none\"/>\n",
              "    <path d=\"M18.56 5.44l.94 2.06.94-2.06 2.06-.94-2.06-.94-.94-2.06-.94 2.06-2.06.94zm-11 1L8.5 8.5l.94-2.06 2.06-.94-2.06-.94L8.5 2.5l-.94 2.06-2.06.94zm10 10l.94 2.06.94-2.06 2.06-.94-2.06-.94-.94-2.06-.94 2.06-2.06.94z\"/><path d=\"M17.41 7.96l-1.37-1.37c-.4-.4-.92-.59-1.43-.59-.52 0-1.04.2-1.43.59L10.3 9.45l-7.72 7.72c-.78.78-.78 2.05 0 2.83L4 21.41c.39.39.9.59 1.41.59.51 0 1.02-.2 1.41-.59l7.78-7.78 2.81-2.81c.8-.78.8-2.07 0-2.86zM5.41 20L4 18.59l7.72-7.72 1.47 1.35L5.41 20z\"/>\n",
              "  </svg>\n",
              "      </button>\n",
              "\n",
              "\n",
              "\n",
              "    <div id=\"df-1ed83c72-c1fc-4bec-a11f-2acd9a8f76b4\">\n",
              "      <button class=\"colab-df-quickchart\" onclick=\"quickchart('df-1ed83c72-c1fc-4bec-a11f-2acd9a8f76b4')\"\n",
              "              title=\"Suggest charts.\"\n",
              "              style=\"display:none;\">\n",
              "\n",
              "<svg xmlns=\"http://www.w3.org/2000/svg\" height=\"24px\"viewBox=\"0 0 24 24\"\n",
              "     width=\"24px\">\n",
              "    <g>\n",
              "        <path d=\"M19 3H5c-1.1 0-2 .9-2 2v14c0 1.1.9 2 2 2h14c1.1 0 2-.9 2-2V5c0-1.1-.9-2-2-2zM9 17H7v-7h2v7zm4 0h-2V7h2v10zm4 0h-2v-4h2v4z\"/>\n",
              "    </g>\n",
              "</svg>\n",
              "      </button>\n",
              "    </div>\n",
              "\n",
              "<style>\n",
              "  .colab-df-quickchart {\n",
              "    background-color: #E8F0FE;\n",
              "    border: none;\n",
              "    border-radius: 50%;\n",
              "    cursor: pointer;\n",
              "    display: none;\n",
              "    fill: #1967D2;\n",
              "    height: 32px;\n",
              "    padding: 0 0 0 0;\n",
              "    width: 32px;\n",
              "  }\n",
              "\n",
              "  .colab-df-quickchart:hover {\n",
              "    background-color: #E2EBFA;\n",
              "    box-shadow: 0px 1px 2px rgba(60, 64, 67, 0.3), 0px 1px 3px 1px rgba(60, 64, 67, 0.15);\n",
              "    fill: #174EA6;\n",
              "  }\n",
              "\n",
              "  [theme=dark] .colab-df-quickchart {\n",
              "    background-color: #3B4455;\n",
              "    fill: #D2E3FC;\n",
              "  }\n",
              "\n",
              "  [theme=dark] .colab-df-quickchart:hover {\n",
              "    background-color: #434B5C;\n",
              "    box-shadow: 0px 1px 3px 1px rgba(0, 0, 0, 0.15);\n",
              "    filter: drop-shadow(0px 1px 2px rgba(0, 0, 0, 0.3));\n",
              "    fill: #FFFFFF;\n",
              "  }\n",
              "</style>\n",
              "\n",
              "    <script>\n",
              "      async function quickchart(key) {\n",
              "        const containerElement = document.querySelector('#' + key);\n",
              "        const charts = await google.colab.kernel.invokeFunction(\n",
              "            'suggestCharts', [key], {});\n",
              "      }\n",
              "    </script>\n",
              "\n",
              "      <script>\n",
              "\n",
              "function displayQuickchartButton(domScope) {\n",
              "  let quickchartButtonEl =\n",
              "    domScope.querySelector('#df-1ed83c72-c1fc-4bec-a11f-2acd9a8f76b4 button.colab-df-quickchart');\n",
              "  quickchartButtonEl.style.display =\n",
              "    google.colab.kernel.accessAllowed ? 'block' : 'none';\n",
              "}\n",
              "\n",
              "        displayQuickchartButton(document);\n",
              "      </script>\n",
              "      <style>\n",
              "    .colab-df-container {\n",
              "      display:flex;\n",
              "      flex-wrap:wrap;\n",
              "      gap: 12px;\n",
              "    }\n",
              "\n",
              "    .colab-df-convert {\n",
              "      background-color: #E8F0FE;\n",
              "      border: none;\n",
              "      border-radius: 50%;\n",
              "      cursor: pointer;\n",
              "      display: none;\n",
              "      fill: #1967D2;\n",
              "      height: 32px;\n",
              "      padding: 0 0 0 0;\n",
              "      width: 32px;\n",
              "    }\n",
              "\n",
              "    .colab-df-convert:hover {\n",
              "      background-color: #E2EBFA;\n",
              "      box-shadow: 0px 1px 2px rgba(60, 64, 67, 0.3), 0px 1px 3px 1px rgba(60, 64, 67, 0.15);\n",
              "      fill: #174EA6;\n",
              "    }\n",
              "\n",
              "    [theme=dark] .colab-df-convert {\n",
              "      background-color: #3B4455;\n",
              "      fill: #D2E3FC;\n",
              "    }\n",
              "\n",
              "    [theme=dark] .colab-df-convert:hover {\n",
              "      background-color: #434B5C;\n",
              "      box-shadow: 0px 1px 3px 1px rgba(0, 0, 0, 0.15);\n",
              "      filter: drop-shadow(0px 1px 2px rgba(0, 0, 0, 0.3));\n",
              "      fill: #FFFFFF;\n",
              "    }\n",
              "  </style>\n",
              "\n",
              "      <script>\n",
              "        const buttonEl =\n",
              "          document.querySelector('#df-90f66046-8b4f-4a2f-ac0f-c4a3031b960d button.colab-df-convert');\n",
              "        buttonEl.style.display =\n",
              "          google.colab.kernel.accessAllowed ? 'block' : 'none';\n",
              "\n",
              "        async function convertToInteractive(key) {\n",
              "          const element = document.querySelector('#df-90f66046-8b4f-4a2f-ac0f-c4a3031b960d');\n",
              "          const dataTable =\n",
              "            await google.colab.kernel.invokeFunction('convertToInteractive',\n",
              "                                                     [key], {});\n",
              "          if (!dataTable) return;\n",
              "\n",
              "          const docLinkHtml = 'Like what you see? Visit the ' +\n",
              "            '<a target=\"_blank\" href=https://colab.research.google.com/notebooks/data_table.ipynb>data table notebook</a>'\n",
              "            + ' to learn more about interactive tables.';\n",
              "          element.innerHTML = '';\n",
              "          dataTable['output_type'] = 'display_data';\n",
              "          await google.colab.output.renderOutput(dataTable, element);\n",
              "          const docLink = document.createElement('div');\n",
              "          docLink.innerHTML = docLinkHtml;\n",
              "          element.appendChild(docLink);\n",
              "        }\n",
              "      </script>\n",
              "    </div>\n",
              "  </div>\n"
            ]
          },
          "metadata": {},
          "execution_count": 1
        }
      ],
      "source": [
        "#@title Setup Example Data: Red Wine Quality\n",
        "\n",
        "# Import library\n",
        "import pandas as pd\n",
        "\n",
        "# Read data file: Spotify\n",
        "data = pd.read_csv('https://raw.githubusercontent.com/vectrlab/apex-stats-datasets/main/spotify-top50-2021/example.csv')\n",
        "\n",
        "# Preview data\n",
        "data.head()"
      ]
    },
    {
      "cell_type": "markdown",
      "metadata": {
        "id": "obbPwXK8FXTi"
      },
      "source": [
        "## Exploratory Analyses (untested)"
      ]
    },
    {
      "cell_type": "markdown",
      "metadata": {
        "id": "eJ_HY5kZFXTj"
      },
      "source": [
        "* Investigate bivariate relationships between variables"
      ]
    },
    {
      "cell_type": "markdown",
      "metadata": {
        "id": "IqUs3OwGFXTj"
      },
      "source": [
        "## Potential Activity Starters"
      ]
    },
    {
      "cell_type": "markdown",
      "metadata": {
        "id": "g_295rWlFXTj"
      },
      "source": [
        "* Is there a relationship between danceability and popularity? Is the relationship linear?\n",
        "* What are the best factors for predicting that a song is popular?\n",
        "* Compare and contrast artists based on a set of chosen features."
      ]
    }
  ],
  "metadata": {
    "colab": {
      "provenance": []
    },
    "kernelspec": {
      "display_name": "Python 3",
      "language": "python",
      "name": "python3"
    },
    "language_info": {
      "codemirror_mode": {
        "name": "ipython",
        "version": 3
      },
      "file_extension": ".py",
      "mimetype": "text/x-python",
      "name": "python",
      "nbconvert_exporter": "python",
      "pygments_lexer": "ipython3",
      "version": "3.8.5"
    },
    "gpuClass": "standard"
  },
  "nbformat": 4,
  "nbformat_minor": 0
}