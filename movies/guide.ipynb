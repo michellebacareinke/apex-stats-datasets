{
  "nbformat": 4,
  "nbformat_minor": 0,
  "metadata": {
    "colab": {
      "name": "movie-data-guide",
      "private_outputs": true,
      "provenance": [],
      "toc_visible": true
    },
    "kernelspec": {
      "name": "python3",
      "display_name": "Python 3"
    },
    "language_info": {
      "name": "python"
    }
  },
  "cells": [
    {
      "cell_type": "markdown",
      "source": [
        "# APEX STATS Dataset\n",
        "Prepared by Andy Qui Le"
      ],
      "metadata": {
        "id": "EH-j63o51UuW"
      }
    },
    {
      "cell_type": "markdown",
      "source": [
        "## Source Attribution"
      ],
      "metadata": {
        "id": "MC30OoJH1rSb"
      }
    },
    {
      "cell_type": "markdown",
      "source": [
        "Author: Data Copyright © 2017 by Yueming   \n",
        "Title: IMBD Movie Dataset   \n",
        "Source: <a href=\"https://www.kaggle.com/carolzhangdc/imdb-5000-movie-dataset\">Kaggle</a>   \n",
        "License: Database Contents   \n",
        "Changes: Data have been adapted for APEX STATS by Andy Qui Le; columns have been removed and renamed."
      ],
      "metadata": {
        "id": "kxIgiODk9PSi"
      }
    },
    {
      "cell_type": "markdown",
      "source": [
        "## Description of the Original Data"
      ],
      "metadata": {
        "id": "NAWM1wUq1t2P"
      }
    },
    {
      "cell_type": "markdown",
      "source": [
        "The data file lists information about movies\n",
        "and their attributes, such as budget and gross. The data are available on Kaggle."
      ],
      "metadata": {
        "id": "uj6PQMY2FMfL"
      }
    },
    {
      "cell_type": "markdown",
      "source": [
        "## Description of the Example"
      ],
      "metadata": {
        "id": "shjNubAU13LU"
      }
    },
    {
      "cell_type": "markdown",
      "source": [
        "Access this example using the file `example.csv`.\n",
        "\n",
        "The example file is a modified version of the original data, with columns being removed and renamed.\n",
        "\n",
        "The unit of analysis (each row) is a record about an individual and their medical insurance cost. Many records contain NaN values and are also removed.\n",
        "\n",
        "The following variables are included:\n",
        "\n",
        "Y: imbd_score   \n",
        "X: gross   \n",
        "X1: budget   \n",
        "X2: duration   \n",
        "X3: num_critic_for_reviews  \n",
        "X4: num_user_for_reviews   \n",
        "X5: movie_facebook_likes   \n",
        "X6: director_name    \n",
        "X7: genres    \n",
        "X8: movie_title        \n",
        "\n",
        " "
      ],
      "metadata": {
        "id": "uE-0IPMMCALu"
      }
    },
    {
      "cell_type": "markdown",
      "source": [
        "## Discipline(s) Represented"
      ],
      "metadata": {
        "id": "5A51BZzw1-Tv"
      }
    },
    {
      "cell_type": "markdown",
      "source": [
        "* Business\n",
        "* Economics\n",
        "* Information technology\n"
      ],
      "metadata": {
        "id": "IG4eWV-n2Egs"
      }
    },
    {
      "cell_type": "markdown",
      "source": [
        "## Dataset Preview"
      ],
      "metadata": {
        "id": "ng36SWSe2HOy"
      }
    },
    {
      "cell_type": "code",
      "source": [
        "#@title Preview Code\n",
        "import pandas as pd\n",
        "data = pd.read_csv(\"https://raw.githubusercontent.com/vectrlab/apex-python-datasets/main/movies/example.csv\")\n",
        "data.head(5)"
      ],
      "metadata": {
        "id": "LGkSYqZt9RCF"
      },
      "execution_count": null,
      "outputs": []
    },
    {
      "cell_type": "markdown",
      "source": [
        "## Exploratory Analyses"
      ],
      "metadata": {
        "id": "K_2hKqNE2PqO"
      }
    },
    {
      "cell_type": "markdown",
      "source": [
        "* Bivariate relationships among quantitative variables: budget, gross, imbd_score, movie_facebook_likes "
      ],
      "metadata": {
        "id": "a2jNEg51LXE4"
      }
    },
    {
      "cell_type": "markdown",
      "source": [
        "## Potential Activity Starters"
      ],
      "metadata": {
        "id": "EDuOpxbA2VWH"
      }
    },
    {
      "cell_type": "markdown",
      "source": [
        "* What factors predict imbd_score?\n",
        "* Is there a relationship between budget and gross? Is that relationship linear?\n",
        "* How do the shapes of the distributions for available attributes compare and contrast?"
      ],
      "metadata": {
        "id": "61I0iztsL37G"
      }
    }
  ]
}