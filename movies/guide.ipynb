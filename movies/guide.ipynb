{
 "cells": [
  {
   "cell_type": "markdown",
   "metadata": {
    "id": "EH-j63o51UuW"
   },
   "source": [
    "# APEX STATS Dataset\n",
    "Prepared by Andy Qui Le"
   ]
  },
  {
   "cell_type": "markdown",
   "metadata": {
    "id": "MC30OoJH1rSb"
   },
   "source": [
    "## Source Attribution"
   ]
  },
  {
   "cell_type": "markdown",
   "metadata": {
    "id": "kxIgiODk9PSi"
   },
   "source": [
    "Author: Data Copyright © 2017 by Yueming   \n",
    "Title: IMBD Movie Dataset   \n",
    "Source: <a href=\"https://www.kaggle.com/carolzhangdc/imdb-5000-movie-dataset\">Kaggle</a>   \n",
    "License: Database Contents   \n",
    "Changes: Data have been adapted for APEX STATS by Andy Qui Le; columns have been removed and renamed."
   ]
  },
  {
   "cell_type": "markdown",
   "metadata": {
    "id": "NAWM1wUq1t2P"
   },
   "source": [
    "## Description of the Original Data"
   ]
  },
  {
   "cell_type": "markdown",
   "metadata": {
    "id": "uj6PQMY2FMfL"
   },
   "source": [
    "The data file lists information about movies\n",
    "and their attributes, such as budget and gross. The data are available on Kaggle."
   ]
  },
  {
   "cell_type": "markdown",
   "metadata": {
    "id": "shjNubAU13LU"
   },
   "source": [
    "## Description of the Example"
   ]
  },
  {
   "cell_type": "markdown",
   "metadata": {
    "id": "uE-0IPMMCALu"
   },
   "source": [
    "Access this example using the file `example.csv`.\n",
    "\n",
    "The example file is a modified version of the original data, with columns being removed and renamed.\n",
    "\n",
    "The unit of analysis (each row) is a record about an individual and their medical insurance cost. Many records contain NaN values and are also removed.\n",
    "\n",
    "The following variables are included:\n",
    "\n",
    "y: imbd_score   \n",
    "x: gross   \n",
    "x1: budget   \n",
    "x2: duration   \n",
    "x3: num_critic_for_reviews  \n",
    "x4: num_user_for_reviews   \n",
    "x5: movie_facebook_likes   \n",
    "x6: director_name    \n",
    "x7: genres    \n",
    "x8: movie_title        "
   ]
  },
  {
   "cell_type": "markdown",
   "metadata": {
    "id": "5A51BZzw1-Tv"
   },
   "source": [
    "## Discipline(s) Represented"
   ]
  },
  {
   "cell_type": "markdown",
   "metadata": {
    "id": "IG4eWV-n2Egs"
   },
   "source": [
    "* Business\n",
    "* Economics\n",
    "* Information technology\n"
   ]
  },
  {
   "cell_type": "markdown",
   "metadata": {
    "id": "ng36SWSe2HOy"
   },
   "source": [
    "## Dataset Preview"
   ]
  },
  {
   "cell_type": "code",
   "execution_count": 1,
   "metadata": {
    "id": "LGkSYqZt9RCF"
   },
   "outputs": [
    {
     "data": {
      "text/html": [
       "<div>\n",
       "<style scoped>\n",
       "    .dataframe tbody tr th:only-of-type {\n",
       "        vertical-align: middle;\n",
       "    }\n",
       "\n",
       "    .dataframe tbody tr th {\n",
       "        vertical-align: top;\n",
       "    }\n",
       "\n",
       "    .dataframe thead th {\n",
       "        text-align: right;\n",
       "    }\n",
       "</style>\n",
       "<table border=\"1\" class=\"dataframe\">\n",
       "  <thead>\n",
       "    <tr style=\"text-align: right;\">\n",
       "      <th></th>\n",
       "      <th>y</th>\n",
       "      <th>x</th>\n",
       "      <th>x1</th>\n",
       "      <th>x2</th>\n",
       "      <th>x3</th>\n",
       "      <th>x4</th>\n",
       "      <th>x5</th>\n",
       "      <th>x6</th>\n",
       "      <th>x7</th>\n",
       "      <th>x8</th>\n",
       "    </tr>\n",
       "  </thead>\n",
       "  <tbody>\n",
       "    <tr>\n",
       "      <th>0</th>\n",
       "      <td>7.9</td>\n",
       "      <td>760505847</td>\n",
       "      <td>237000000</td>\n",
       "      <td>178</td>\n",
       "      <td>723</td>\n",
       "      <td>3054</td>\n",
       "      <td>33000</td>\n",
       "      <td>James Cameron</td>\n",
       "      <td>Action|Adventure|Fantasy|Sci-Fi</td>\n",
       "      <td>Avatar</td>\n",
       "    </tr>\n",
       "    <tr>\n",
       "      <th>1</th>\n",
       "      <td>7.1</td>\n",
       "      <td>309404152</td>\n",
       "      <td>300000000</td>\n",
       "      <td>169</td>\n",
       "      <td>302</td>\n",
       "      <td>1238</td>\n",
       "      <td>0</td>\n",
       "      <td>Gore Verbinski</td>\n",
       "      <td>Action|Adventure|Fantasy</td>\n",
       "      <td>Pirates of the Caribbean: At World's End</td>\n",
       "    </tr>\n",
       "    <tr>\n",
       "      <th>2</th>\n",
       "      <td>6.8</td>\n",
       "      <td>200074175</td>\n",
       "      <td>245000000</td>\n",
       "      <td>148</td>\n",
       "      <td>602</td>\n",
       "      <td>994</td>\n",
       "      <td>85000</td>\n",
       "      <td>Sam Mendes</td>\n",
       "      <td>Action|Adventure|Thriller</td>\n",
       "      <td>Spectre</td>\n",
       "    </tr>\n",
       "    <tr>\n",
       "      <th>3</th>\n",
       "      <td>8.5</td>\n",
       "      <td>448130642</td>\n",
       "      <td>250000000</td>\n",
       "      <td>164</td>\n",
       "      <td>813</td>\n",
       "      <td>2701</td>\n",
       "      <td>164000</td>\n",
       "      <td>Christopher Nolan</td>\n",
       "      <td>Action|Thriller</td>\n",
       "      <td>The Dark Knight Rises</td>\n",
       "    </tr>\n",
       "    <tr>\n",
       "      <th>4</th>\n",
       "      <td>6.6</td>\n",
       "      <td>73058679</td>\n",
       "      <td>263700000</td>\n",
       "      <td>132</td>\n",
       "      <td>462</td>\n",
       "      <td>738</td>\n",
       "      <td>24000</td>\n",
       "      <td>Andrew Stanton</td>\n",
       "      <td>Action|Adventure|Sci-Fi</td>\n",
       "      <td>John Carter</td>\n",
       "    </tr>\n",
       "  </tbody>\n",
       "</table>\n",
       "</div>"
      ],
      "text/plain": [
       "     y          x         x1   x2   x3    x4      x5                 x6  \\\n",
       "0  7.9  760505847  237000000  178  723  3054   33000      James Cameron   \n",
       "1  7.1  309404152  300000000  169  302  1238       0     Gore Verbinski   \n",
       "2  6.8  200074175  245000000  148  602   994   85000         Sam Mendes   \n",
       "3  8.5  448130642  250000000  164  813  2701  164000  Christopher Nolan   \n",
       "4  6.6   73058679  263700000  132  462   738   24000     Andrew Stanton   \n",
       "\n",
       "                                x7                                         x8  \n",
       "0  Action|Adventure|Fantasy|Sci-Fi                                    Avatar   \n",
       "1         Action|Adventure|Fantasy  Pirates of the Caribbean: At World's End   \n",
       "2        Action|Adventure|Thriller                                   Spectre   \n",
       "3                  Action|Thriller                     The Dark Knight Rises   \n",
       "4          Action|Adventure|Sci-Fi                               John Carter   "
      ]
     },
     "execution_count": 1,
     "metadata": {},
     "output_type": "execute_result"
    }
   ],
   "source": [
    "#@title Preview Code\n",
    "import pandas as pd\n",
    "data = pd.read_csv(\"https://raw.githubusercontent.com/vectrlab/apex-python-datasets/main/movies/example.csv\")\n",
    "data.head(5)"
   ]
  },
  {
   "cell_type": "markdown",
   "metadata": {
    "id": "K_2hKqNE2PqO"
   },
   "source": [
    "## Exploratory Analyses (untested)"
   ]
  },
  {
   "cell_type": "markdown",
   "metadata": {
    "id": "a2jNEg51LXE4"
   },
   "source": [
    "* Bivariate relationships among quantitative variables: budget, gross, imbd_score, movie_facebook_likes "
   ]
  },
  {
   "cell_type": "markdown",
   "metadata": {
    "id": "EDuOpxbA2VWH"
   },
   "source": [
    "## Potential Activity Starters"
   ]
  },
  {
   "cell_type": "markdown",
   "metadata": {
    "id": "61I0iztsL37G"
   },
   "source": [
    "* What factors predict imbd_score?\n",
    "* Is there a relationship between budget and gross? Is that relationship linear?\n",
    "* How do the shapes of the distributions for available attributes compare and contrast?"
   ]
  }
 ],
 "metadata": {
  "colab": {
   "name": "movie-data-guide",
   "private_outputs": true,
   "provenance": [],
   "toc_visible": true
  },
  "kernelspec": {
   "display_name": "Python 3",
   "language": "python",
   "name": "python3"
  },
  "language_info": {
   "codemirror_mode": {
    "name": "ipython",
    "version": 3
   },
   "file_extension": ".py",
   "mimetype": "text/x-python",
   "name": "python",
   "nbconvert_exporter": "python",
   "pygments_lexer": "ipython3",
   "version": "3.8.5"
  }
 },
 "nbformat": 4,
 "nbformat_minor": 1
}
